{
 "cells": [
  {
   "cell_type": "markdown",
   "metadata": {
    "papermill": {
     "duration": 0.033374,
     "end_time": "2021-01-21T23:19:15.885629",
     "exception": false,
     "start_time": "2021-01-21T23:19:15.852255",
     "status": "completed"
    },
    "tags": []
   },
   "source": [
    "# Audio Sentiment Analysis\n",
    "\n",
    "The aim of this challenge is to read the audio (.wav) files and classify them into 3 sentiments (Positive, Neutral, or Negative).\n",
    "\n",
    "Sentiments:-\n",
    "- Positive\n",
    "- Negative\n",
    "- Neutral\n",
    "\n",
    "We will be applying following Ensemble Algorithms:-\n",
    "\n",
    "- NN with Tensorflow\n",
    "\n",
    "# Reading & Understanding Data\n",
    "## Importing Libraries"
   ]
  },
  {
   "cell_type": "code",
   "execution_count": 1,
   "metadata": {
    "execution": {
     "iopub.execute_input": "2021-01-21T23:19:15.962136Z",
     "iopub.status.busy": "2021-01-21T23:19:15.961454Z",
     "iopub.status.idle": "2021-01-21T23:19:18.235196Z",
     "shell.execute_reply": "2021-01-21T23:19:18.234323Z"
    },
    "papermill": {
     "duration": 2.316857,
     "end_time": "2021-01-21T23:19:18.235309",
     "exception": false,
     "start_time": "2021-01-21T23:19:15.918452",
     "status": "completed"
    },
    "tags": []
   },
   "outputs": [],
   "source": [
    "import sys, os\n",
    "import numpy as np\n",
    "import pandas as pd\n",
    "import matplotlib.pyplot as plt\n",
    "import seaborn as sns\n",
    "sns.set_style('whitegrid')\n",
    "%matplotlib inline\n",
    "import warnings\n",
    "warnings.filterwarnings('ignore')\n",
    "import sklearn.metrics as skm\n",
    "import sklearn.model_selection as skms\n",
    "import sklearn.preprocessing as skp\n",
    "import random, os\n",
    "import librosa, IPython\n",
    "import librosa.display as lplt\n",
    "from skimage.io import imread\n",
    "seed = 12\n",
    "np.random.seed(seed)"
   ]
  },
  {
   "cell_type": "markdown",
   "metadata": {
    "papermill": {
     "duration": 0.032728,
     "end_time": "2021-01-21T23:19:18.302180",
     "exception": false,
     "start_time": "2021-01-21T23:19:18.269452",
     "status": "completed"
    },
    "tags": []
   },
   "source": [
    "### Loading Dataset"
   ]
  },
  {
   "cell_type": "code",
   "execution_count": 2,
   "metadata": {
    "execution": {
     "iopub.execute_input": "2021-01-21T23:19:18.412431Z",
     "iopub.status.busy": "2021-01-21T23:19:18.411861Z",
     "iopub.status.idle": "2021-01-21T23:19:18.439676Z",
     "shell.execute_reply": "2021-01-21T23:19:18.439249Z"
    },
    "papermill": {
     "duration": 0.074521,
     "end_time": "2021-01-21T23:19:18.439769",
     "exception": false,
     "start_time": "2021-01-21T23:19:18.365248",
     "status": "completed"
    },
    "tags": []
   },
   "outputs": [
    {
     "data": {
      "text/html": [
       "<div>\n",
       "<style scoped>\n",
       "    .dataframe tbody tr th:only-of-type {\n",
       "        vertical-align: middle;\n",
       "    }\n",
       "\n",
       "    .dataframe tbody tr th {\n",
       "        vertical-align: top;\n",
       "    }\n",
       "\n",
       "    .dataframe thead th {\n",
       "        text-align: right;\n",
       "    }\n",
       "</style>\n",
       "<table border=\"1\" class=\"dataframe\">\n",
       "  <thead>\n",
       "    <tr style=\"text-align: right;\">\n",
       "      <th></th>\n",
       "      <th>Filename</th>\n",
       "      <th>Class</th>\n",
       "    </tr>\n",
       "  </thead>\n",
       "  <tbody>\n",
       "    <tr>\n",
       "      <th>0</th>\n",
       "      <td>346.wav</td>\n",
       "      <td>Negative</td>\n",
       "    </tr>\n",
       "    <tr>\n",
       "      <th>1</th>\n",
       "      <td>163.wav</td>\n",
       "      <td>Neutral</td>\n",
       "    </tr>\n",
       "    <tr>\n",
       "      <th>2</th>\n",
       "      <td>288.wav</td>\n",
       "      <td>Negative</td>\n",
       "    </tr>\n",
       "    <tr>\n",
       "      <th>3</th>\n",
       "      <td>279.wav</td>\n",
       "      <td>Negative</td>\n",
       "    </tr>\n",
       "    <tr>\n",
       "      <th>4</th>\n",
       "      <td>244.wav</td>\n",
       "      <td>Negative</td>\n",
       "    </tr>\n",
       "  </tbody>\n",
       "</table>\n",
       "</div>"
      ],
      "text/plain": [
       "  Filename     Class\n",
       "0  346.wav  Negative\n",
       "1  163.wav   Neutral\n",
       "2  288.wav  Negative\n",
       "3  279.wav  Negative\n",
       "4  244.wav  Negative"
      ]
     },
     "execution_count": 2,
     "metadata": {},
     "output_type": "execute_result"
    }
   ],
   "source": [
    "trainPath = '/kaggle/input/audio-speech-sentiment/TRAIN/'\n",
    "testPath = '/kaggle/input/audio-speech-sentiment/TEST/'\n",
    "df_base = pd.read_csv('/kaggle/input/audio-speech-sentiment/TRAIN.csv')\n",
    "df_base.head()"
   ]
  },
  {
   "cell_type": "markdown",
   "metadata": {
    "papermill": {
     "duration": 0.032361,
     "end_time": "2021-01-21T23:19:18.505548",
     "exception": false,
     "start_time": "2021-01-21T23:19:18.473187",
     "status": "completed"
    },
    "tags": []
   },
   "source": [
    "### About the dataset"
   ]
  },
  {
   "cell_type": "code",
   "execution_count": 3,
   "metadata": {
    "execution": {
     "iopub.execute_input": "2021-01-21T23:19:18.581577Z",
     "iopub.status.busy": "2021-01-21T23:19:18.580737Z",
     "iopub.status.idle": "2021-01-21T23:19:18.585394Z",
     "shell.execute_reply": "2021-01-21T23:19:18.585887Z"
    },
    "papermill": {
     "duration": 0.047744,
     "end_time": "2021-01-21T23:19:18.586002",
     "exception": false,
     "start_time": "2021-01-21T23:19:18.538258",
     "status": "completed"
    },
    "scrolled": false,
    "tags": []
   },
   "outputs": [
    {
     "name": "stdout",
     "output_type": "stream",
     "text": [
      "Dataset has 250 samples\n",
      "Count of Positive and Negative samples\n"
     ]
    },
    {
     "data": {
      "text/html": [
       "<div>\n",
       "<style scoped>\n",
       "    .dataframe tbody tr th:only-of-type {\n",
       "        vertical-align: middle;\n",
       "    }\n",
       "\n",
       "    .dataframe tbody tr th {\n",
       "        vertical-align: top;\n",
       "    }\n",
       "\n",
       "    .dataframe thead th {\n",
       "        text-align: right;\n",
       "    }\n",
       "</style>\n",
       "<table border=\"1\" class=\"dataframe\">\n",
       "  <thead>\n",
       "    <tr style=\"text-align: right;\">\n",
       "      <th></th>\n",
       "      <th>index</th>\n",
       "      <th>Class</th>\n",
       "    </tr>\n",
       "  </thead>\n",
       "  <tbody>\n",
       "    <tr>\n",
       "      <th>0</th>\n",
       "      <td>Negative</td>\n",
       "      <td>87</td>\n",
       "    </tr>\n",
       "    <tr>\n",
       "      <th>1</th>\n",
       "      <td>Positive</td>\n",
       "      <td>82</td>\n",
       "    </tr>\n",
       "    <tr>\n",
       "      <th>2</th>\n",
       "      <td>Neutral</td>\n",
       "      <td>81</td>\n",
       "    </tr>\n",
       "  </tbody>\n",
       "</table>\n",
       "</div>"
      ],
      "text/plain": [
       "      index  Class\n",
       "0  Negative     87\n",
       "1  Positive     82\n",
       "2   Neutral     81"
      ]
     },
     "execution_count": 3,
     "metadata": {},
     "output_type": "execute_result"
    }
   ],
   "source": [
    "print(\"Dataset has\",df_base.shape[0],\"samples\")\n",
    "print(\"Count of Positive and Negative samples\")\n",
    "df_base['Class'].value_counts().reset_index()"
   ]
  },
  {
   "cell_type": "code",
   "execution_count": 4,
   "metadata": {
    "execution": {
     "iopub.execute_input": "2021-01-21T23:19:18.657432Z",
     "iopub.status.busy": "2021-01-21T23:19:18.656735Z",
     "iopub.status.idle": "2021-01-21T23:19:18.659685Z",
     "shell.execute_reply": "2021-01-21T23:19:18.659145Z"
    },
    "papermill": {
     "duration": 0.040649,
     "end_time": "2021-01-21T23:19:18.659762",
     "exception": false,
     "start_time": "2021-01-21T23:19:18.619113",
     "status": "completed"
    },
    "tags": []
   },
   "outputs": [],
   "source": [
    "sample_rate = 44100\n",
    "def loadAudio(fp):\n",
    "    return librosa.load(fp, res_type='kaiser_fast', duration=2.5, offset=0.5, sr=sample_rate)"
   ]
  },
  {
   "cell_type": "markdown",
   "metadata": {
    "papermill": {
     "duration": 0.033279,
     "end_time": "2021-01-21T23:19:18.726427",
     "exception": false,
     "start_time": "2021-01-21T23:19:18.693148",
     "status": "completed"
    },
    "tags": []
   },
   "source": [
    "### MelSpec -> Array"
   ]
  },
  {
   "cell_type": "code",
   "execution_count": 5,
   "metadata": {
    "execution": {
     "iopub.execute_input": "2021-01-21T23:19:18.805760Z",
     "iopub.status.busy": "2021-01-21T23:19:18.805221Z",
     "iopub.status.idle": "2021-01-21T23:19:18.808458Z",
     "shell.execute_reply": "2021-01-21T23:19:18.808001Z"
    },
    "papermill": {
     "duration": 0.047146,
     "end_time": "2021-01-21T23:19:18.808538",
     "exception": false,
     "start_time": "2021-01-21T23:19:18.761392",
     "status": "completed"
    },
    "tags": []
   },
   "outputs": [],
   "source": [
    "def scanFeatures(path, avgFeat=0):\n",
    "    features = []\n",
    "    minFeat = sys.maxsize\n",
    "    maxFeat = 0\n",
    "    files = sorted(os.listdir(path))\n",
    "    print(\"Scanning\", path)\n",
    "\n",
    "    for i, fp in enumerate(files):\n",
    "        X, sr = loadAudio(os.path.join(path, fp))\n",
    "\n",
    "        f = librosa.feature.melspectrogram(y=X, sr=sample_rate)\n",
    "        f = librosa.amplitude_to_db(f, ref=np.max)\n",
    "\n",
    "        shapeY = f.shape[1]\n",
    "        if shapeY < minFeat:\n",
    "            minFeat = shapeY\n",
    "\n",
    "        if shapeY > maxFeat:\n",
    "            maxFeat = shapeY\n",
    "\n",
    "        features.append(f)\n",
    "    if avgFeat == 0:\n",
    "        avgFeat = int((minFeat+maxFeat)/2)\n",
    "    feat_mat = np.zeros((len(files), f.shape[0], avgFeat))\n",
    "    for i, x in enumerate(features):\n",
    "        xWidth = min(x.shape[1],avgFeat)\n",
    "        feat_mat[i, :, :xWidth] = x[:,:xWidth]\n",
    "    return feat_mat, files"
   ]
  },
  {
   "cell_type": "code",
   "execution_count": 6,
   "metadata": {
    "execution": {
     "iopub.execute_input": "2021-01-21T23:19:18.880179Z",
     "iopub.status.busy": "2021-01-21T23:19:18.879671Z",
     "iopub.status.idle": "2021-01-21T23:19:31.055147Z",
     "shell.execute_reply": "2021-01-21T23:19:31.055803Z"
    },
    "papermill": {
     "duration": 12.21393,
     "end_time": "2021-01-21T23:19:31.056001",
     "exception": false,
     "start_time": "2021-01-21T23:19:18.842071",
     "status": "completed"
    },
    "tags": []
   },
   "outputs": [
    {
     "name": "stdout",
     "output_type": "stream",
     "text": [
      "Scanning /kaggle/input/audio-speech-sentiment/TRAIN/\n",
      "Scanning /kaggle/input/audio-speech-sentiment/TEST/\n",
      "(250, 128, 128)\n",
      "(110, 128, 128)\n"
     ]
    }
   ],
   "source": [
    "f_dim = 128\n",
    "train_data, train_files = scanFeatures(trainPath, f_dim)\n",
    "test_data, test_files = scanFeatures(testPath, train_data.shape[1])\n",
    "print(train_data.shape)\n",
    "print(test_data.shape)"
   ]
  },
  {
   "cell_type": "markdown",
   "metadata": {
    "papermill": {
     "duration": 0.036587,
     "end_time": "2021-01-21T23:19:31.131845",
     "exception": false,
     "start_time": "2021-01-21T23:19:31.095258",
     "status": "completed"
    },
    "tags": []
   },
   "source": [
    "### MelSpec -> Images"
   ]
  },
  {
   "cell_type": "code",
   "execution_count": 7,
   "metadata": {
    "execution": {
     "iopub.execute_input": "2021-01-21T23:19:31.209471Z",
     "iopub.status.busy": "2021-01-21T23:19:31.208920Z",
     "iopub.status.idle": "2021-01-21T23:19:31.215423Z",
     "shell.execute_reply": "2021-01-21T23:19:31.214857Z"
    },
    "papermill": {
     "duration": 0.047135,
     "end_time": "2021-01-21T23:19:31.215507",
     "exception": false,
     "start_time": "2021-01-21T23:19:31.168372",
     "status": "completed"
    },
    "tags": []
   },
   "outputs": [],
   "source": [
    "def saveImg(f, fp):\n",
    "    f = np.flip(f, axis=0)\n",
    "    plt.figure()\n",
    "    plt.axis('off')\n",
    "    plt.imsave(fp, f, format='png')\n",
    "    plt.clf()"
   ]
  },
  {
   "cell_type": "code",
   "execution_count": 8,
   "metadata": {
    "execution": {
     "iopub.execute_input": "2021-01-21T23:19:31.297583Z",
     "iopub.status.busy": "2021-01-21T23:19:31.297062Z",
     "iopub.status.idle": "2021-01-21T23:19:31.300813Z",
     "shell.execute_reply": "2021-01-21T23:19:31.301296Z"
    },
    "papermill": {
     "duration": 0.04874,
     "end_time": "2021-01-21T23:19:31.301404",
     "exception": false,
     "start_time": "2021-01-21T23:19:31.252664",
     "status": "completed"
    },
    "tags": []
   },
   "outputs": [],
   "source": [
    "def saveFeatureToImage(path, saveDir, avgFeat=0):\n",
    "    global sample_rate\n",
    "    files = sorted(os.listdir(path))\n",
    "    print(\"Scanning\", path)\n",
    "\n",
    "    for i, fp in enumerate(files):\n",
    "        X, sr = loadAudio(os.path.join(path, fp))\n",
    "\n",
    "        f = librosa.feature.melspectrogram(y=X, sr=sample_rate)\n",
    "        f = librosa.amplitude_to_db(f, ref=np.max)\n",
    "\n",
    "        img = np.zeros((f.shape[0], avgFeat))\n",
    "        xWidth = min(f.shape[1],avgFeat)\n",
    "        img[:, :xWidth] = f[:,:xWidth]\n",
    "        fname = os.path.join(saveDir, fp.split('.')[0] + '.png')\n",
    "        saveImg(img, fname)"
   ]
  },
  {
   "cell_type": "code",
   "execution_count": 9,
   "metadata": {
    "_kg_hide-output": true,
    "execution": {
     "iopub.execute_input": "2021-01-21T23:19:31.378362Z",
     "iopub.status.busy": "2021-01-21T23:19:31.377666Z",
     "iopub.status.idle": "2021-01-21T23:19:50.470046Z",
     "shell.execute_reply": "2021-01-21T23:19:50.469600Z"
    },
    "papermill": {
     "duration": 19.132844,
     "end_time": "2021-01-21T23:19:50.470146",
     "exception": false,
     "start_time": "2021-01-21T23:19:31.337302",
     "status": "completed"
    },
    "tags": []
   },
   "outputs": [
    {
     "name": "stdout",
     "output_type": "stream",
     "text": [
      "Scanning /kaggle/input/audio-speech-sentiment/TRAIN/\n",
      "Scanning /kaggle/input/audio-speech-sentiment/TEST/\n"
     ]
    },
    {
     "data": {
      "text/plain": [
       "<Figure size 432x288 with 0 Axes>"
      ]
     },
     "metadata": {},
     "output_type": "display_data"
    },
    {
     "data": {
      "text/plain": [
       "<Figure size 432x288 with 0 Axes>"
      ]
     },
     "metadata": {},
     "output_type": "display_data"
    },
    {
     "data": {
      "text/plain": [
       "<Figure size 432x288 with 0 Axes>"
      ]
     },
     "metadata": {},
     "output_type": "display_data"
    },
    {
     "data": {
      "text/plain": [
       "<Figure size 432x288 with 0 Axes>"
      ]
     },
     "metadata": {},
     "output_type": "display_data"
    },
    {
     "data": {
      "text/plain": [
       "<Figure size 432x288 with 0 Axes>"
      ]
     },
     "metadata": {},
     "output_type": "display_data"
    },
    {
     "data": {
      "text/plain": [
       "<Figure size 432x288 with 0 Axes>"
      ]
     },
     "metadata": {},
     "output_type": "display_data"
    },
    {
     "data": {
      "text/plain": [
       "<Figure size 432x288 with 0 Axes>"
      ]
     },
     "metadata": {},
     "output_type": "display_data"
    },
    {
     "data": {
      "text/plain": [
       "<Figure size 432x288 with 0 Axes>"
      ]
     },
     "metadata": {},
     "output_type": "display_data"
    },
    {
     "data": {
      "text/plain": [
       "<Figure size 432x288 with 0 Axes>"
      ]
     },
     "metadata": {},
     "output_type": "display_data"
    },
    {
     "data": {
      "text/plain": [
       "<Figure size 432x288 with 0 Axes>"
      ]
     },
     "metadata": {},
     "output_type": "display_data"
    },
    {
     "data": {
      "text/plain": [
       "<Figure size 432x288 with 0 Axes>"
      ]
     },
     "metadata": {},
     "output_type": "display_data"
    },
    {
     "data": {
      "text/plain": [
       "<Figure size 432x288 with 0 Axes>"
      ]
     },
     "metadata": {},
     "output_type": "display_data"
    },
    {
     "data": {
      "text/plain": [
       "<Figure size 432x288 with 0 Axes>"
      ]
     },
     "metadata": {},
     "output_type": "display_data"
    },
    {
     "data": {
      "text/plain": [
       "<Figure size 432x288 with 0 Axes>"
      ]
     },
     "metadata": {},
     "output_type": "display_data"
    },
    {
     "data": {
      "text/plain": [
       "<Figure size 432x288 with 0 Axes>"
      ]
     },
     "metadata": {},
     "output_type": "display_data"
    },
    {
     "data": {
      "text/plain": [
       "<Figure size 432x288 with 0 Axes>"
      ]
     },
     "metadata": {},
     "output_type": "display_data"
    },
    {
     "data": {
      "text/plain": [
       "<Figure size 432x288 with 0 Axes>"
      ]
     },
     "metadata": {},
     "output_type": "display_data"
    },
    {
     "data": {
      "text/plain": [
       "<Figure size 432x288 with 0 Axes>"
      ]
     },
     "metadata": {},
     "output_type": "display_data"
    },
    {
     "data": {
      "text/plain": [
       "<Figure size 432x288 with 0 Axes>"
      ]
     },
     "metadata": {},
     "output_type": "display_data"
    },
    {
     "data": {
      "text/plain": [
       "<Figure size 432x288 with 0 Axes>"
      ]
     },
     "metadata": {},
     "output_type": "display_data"
    },
    {
     "data": {
      "text/plain": [
       "<Figure size 432x288 with 0 Axes>"
      ]
     },
     "metadata": {},
     "output_type": "display_data"
    },
    {
     "data": {
      "text/plain": [
       "<Figure size 432x288 with 0 Axes>"
      ]
     },
     "metadata": {},
     "output_type": "display_data"
    },
    {
     "data": {
      "text/plain": [
       "<Figure size 432x288 with 0 Axes>"
      ]
     },
     "metadata": {},
     "output_type": "display_data"
    },
    {
     "data": {
      "text/plain": [
       "<Figure size 432x288 with 0 Axes>"
      ]
     },
     "metadata": {},
     "output_type": "display_data"
    },
    {
     "data": {
      "text/plain": [
       "<Figure size 432x288 with 0 Axes>"
      ]
     },
     "metadata": {},
     "output_type": "display_data"
    },
    {
     "data": {
      "text/plain": [
       "<Figure size 432x288 with 0 Axes>"
      ]
     },
     "metadata": {},
     "output_type": "display_data"
    },
    {
     "data": {
      "text/plain": [
       "<Figure size 432x288 with 0 Axes>"
      ]
     },
     "metadata": {},
     "output_type": "display_data"
    },
    {
     "data": {
      "text/plain": [
       "<Figure size 432x288 with 0 Axes>"
      ]
     },
     "metadata": {},
     "output_type": "display_data"
    },
    {
     "data": {
      "text/plain": [
       "<Figure size 432x288 with 0 Axes>"
      ]
     },
     "metadata": {},
     "output_type": "display_data"
    },
    {
     "data": {
      "text/plain": [
       "<Figure size 432x288 with 0 Axes>"
      ]
     },
     "metadata": {},
     "output_type": "display_data"
    },
    {
     "data": {
      "text/plain": [
       "<Figure size 432x288 with 0 Axes>"
      ]
     },
     "metadata": {},
     "output_type": "display_data"
    },
    {
     "data": {
      "text/plain": [
       "<Figure size 432x288 with 0 Axes>"
      ]
     },
     "metadata": {},
     "output_type": "display_data"
    },
    {
     "data": {
      "text/plain": [
       "<Figure size 432x288 with 0 Axes>"
      ]
     },
     "metadata": {},
     "output_type": "display_data"
    },
    {
     "data": {
      "text/plain": [
       "<Figure size 432x288 with 0 Axes>"
      ]
     },
     "metadata": {},
     "output_type": "display_data"
    },
    {
     "data": {
      "text/plain": [
       "<Figure size 432x288 with 0 Axes>"
      ]
     },
     "metadata": {},
     "output_type": "display_data"
    },
    {
     "data": {
      "text/plain": [
       "<Figure size 432x288 with 0 Axes>"
      ]
     },
     "metadata": {},
     "output_type": "display_data"
    },
    {
     "data": {
      "text/plain": [
       "<Figure size 432x288 with 0 Axes>"
      ]
     },
     "metadata": {},
     "output_type": "display_data"
    },
    {
     "data": {
      "text/plain": [
       "<Figure size 432x288 with 0 Axes>"
      ]
     },
     "metadata": {},
     "output_type": "display_data"
    },
    {
     "data": {
      "text/plain": [
       "<Figure size 432x288 with 0 Axes>"
      ]
     },
     "metadata": {},
     "output_type": "display_data"
    },
    {
     "data": {
      "text/plain": [
       "<Figure size 432x288 with 0 Axes>"
      ]
     },
     "metadata": {},
     "output_type": "display_data"
    },
    {
     "data": {
      "text/plain": [
       "<Figure size 432x288 with 0 Axes>"
      ]
     },
     "metadata": {},
     "output_type": "display_data"
    },
    {
     "data": {
      "text/plain": [
       "<Figure size 432x288 with 0 Axes>"
      ]
     },
     "metadata": {},
     "output_type": "display_data"
    },
    {
     "data": {
      "text/plain": [
       "<Figure size 432x288 with 0 Axes>"
      ]
     },
     "metadata": {},
     "output_type": "display_data"
    },
    {
     "data": {
      "text/plain": [
       "<Figure size 432x288 with 0 Axes>"
      ]
     },
     "metadata": {},
     "output_type": "display_data"
    },
    {
     "data": {
      "text/plain": [
       "<Figure size 432x288 with 0 Axes>"
      ]
     },
     "metadata": {},
     "output_type": "display_data"
    },
    {
     "data": {
      "text/plain": [
       "<Figure size 432x288 with 0 Axes>"
      ]
     },
     "metadata": {},
     "output_type": "display_data"
    },
    {
     "data": {
      "text/plain": [
       "<Figure size 432x288 with 0 Axes>"
      ]
     },
     "metadata": {},
     "output_type": "display_data"
    },
    {
     "data": {
      "text/plain": [
       "<Figure size 432x288 with 0 Axes>"
      ]
     },
     "metadata": {},
     "output_type": "display_data"
    },
    {
     "data": {
      "text/plain": [
       "<Figure size 432x288 with 0 Axes>"
      ]
     },
     "metadata": {},
     "output_type": "display_data"
    },
    {
     "data": {
      "text/plain": [
       "<Figure size 432x288 with 0 Axes>"
      ]
     },
     "metadata": {},
     "output_type": "display_data"
    },
    {
     "data": {
      "text/plain": [
       "<Figure size 432x288 with 0 Axes>"
      ]
     },
     "metadata": {},
     "output_type": "display_data"
    },
    {
     "data": {
      "text/plain": [
       "<Figure size 432x288 with 0 Axes>"
      ]
     },
     "metadata": {},
     "output_type": "display_data"
    },
    {
     "data": {
      "text/plain": [
       "<Figure size 432x288 with 0 Axes>"
      ]
     },
     "metadata": {},
     "output_type": "display_data"
    },
    {
     "data": {
      "text/plain": [
       "<Figure size 432x288 with 0 Axes>"
      ]
     },
     "metadata": {},
     "output_type": "display_data"
    },
    {
     "data": {
      "text/plain": [
       "<Figure size 432x288 with 0 Axes>"
      ]
     },
     "metadata": {},
     "output_type": "display_data"
    },
    {
     "data": {
      "text/plain": [
       "<Figure size 432x288 with 0 Axes>"
      ]
     },
     "metadata": {},
     "output_type": "display_data"
    },
    {
     "data": {
      "text/plain": [
       "<Figure size 432x288 with 0 Axes>"
      ]
     },
     "metadata": {},
     "output_type": "display_data"
    },
    {
     "data": {
      "text/plain": [
       "<Figure size 432x288 with 0 Axes>"
      ]
     },
     "metadata": {},
     "output_type": "display_data"
    },
    {
     "data": {
      "text/plain": [
       "<Figure size 432x288 with 0 Axes>"
      ]
     },
     "metadata": {},
     "output_type": "display_data"
    },
    {
     "data": {
      "text/plain": [
       "<Figure size 432x288 with 0 Axes>"
      ]
     },
     "metadata": {},
     "output_type": "display_data"
    },
    {
     "data": {
      "text/plain": [
       "<Figure size 432x288 with 0 Axes>"
      ]
     },
     "metadata": {},
     "output_type": "display_data"
    },
    {
     "data": {
      "text/plain": [
       "<Figure size 432x288 with 0 Axes>"
      ]
     },
     "metadata": {},
     "output_type": "display_data"
    },
    {
     "data": {
      "text/plain": [
       "<Figure size 432x288 with 0 Axes>"
      ]
     },
     "metadata": {},
     "output_type": "display_data"
    },
    {
     "data": {
      "text/plain": [
       "<Figure size 432x288 with 0 Axes>"
      ]
     },
     "metadata": {},
     "output_type": "display_data"
    },
    {
     "data": {
      "text/plain": [
       "<Figure size 432x288 with 0 Axes>"
      ]
     },
     "metadata": {},
     "output_type": "display_data"
    },
    {
     "data": {
      "text/plain": [
       "<Figure size 432x288 with 0 Axes>"
      ]
     },
     "metadata": {},
     "output_type": "display_data"
    },
    {
     "data": {
      "text/plain": [
       "<Figure size 432x288 with 0 Axes>"
      ]
     },
     "metadata": {},
     "output_type": "display_data"
    },
    {
     "data": {
      "text/plain": [
       "<Figure size 432x288 with 0 Axes>"
      ]
     },
     "metadata": {},
     "output_type": "display_data"
    },
    {
     "data": {
      "text/plain": [
       "<Figure size 432x288 with 0 Axes>"
      ]
     },
     "metadata": {},
     "output_type": "display_data"
    },
    {
     "data": {
      "text/plain": [
       "<Figure size 432x288 with 0 Axes>"
      ]
     },
     "metadata": {},
     "output_type": "display_data"
    },
    {
     "data": {
      "text/plain": [
       "<Figure size 432x288 with 0 Axes>"
      ]
     },
     "metadata": {},
     "output_type": "display_data"
    },
    {
     "data": {
      "text/plain": [
       "<Figure size 432x288 with 0 Axes>"
      ]
     },
     "metadata": {},
     "output_type": "display_data"
    },
    {
     "data": {
      "text/plain": [
       "<Figure size 432x288 with 0 Axes>"
      ]
     },
     "metadata": {},
     "output_type": "display_data"
    },
    {
     "data": {
      "text/plain": [
       "<Figure size 432x288 with 0 Axes>"
      ]
     },
     "metadata": {},
     "output_type": "display_data"
    },
    {
     "data": {
      "text/plain": [
       "<Figure size 432x288 with 0 Axes>"
      ]
     },
     "metadata": {},
     "output_type": "display_data"
    },
    {
     "data": {
      "text/plain": [
       "<Figure size 432x288 with 0 Axes>"
      ]
     },
     "metadata": {},
     "output_type": "display_data"
    },
    {
     "data": {
      "text/plain": [
       "<Figure size 432x288 with 0 Axes>"
      ]
     },
     "metadata": {},
     "output_type": "display_data"
    },
    {
     "data": {
      "text/plain": [
       "<Figure size 432x288 with 0 Axes>"
      ]
     },
     "metadata": {},
     "output_type": "display_data"
    },
    {
     "data": {
      "text/plain": [
       "<Figure size 432x288 with 0 Axes>"
      ]
     },
     "metadata": {},
     "output_type": "display_data"
    },
    {
     "data": {
      "text/plain": [
       "<Figure size 432x288 with 0 Axes>"
      ]
     },
     "metadata": {},
     "output_type": "display_data"
    },
    {
     "data": {
      "text/plain": [
       "<Figure size 432x288 with 0 Axes>"
      ]
     },
     "metadata": {},
     "output_type": "display_data"
    },
    {
     "data": {
      "text/plain": [
       "<Figure size 432x288 with 0 Axes>"
      ]
     },
     "metadata": {},
     "output_type": "display_data"
    },
    {
     "data": {
      "text/plain": [
       "<Figure size 432x288 with 0 Axes>"
      ]
     },
     "metadata": {},
     "output_type": "display_data"
    },
    {
     "data": {
      "text/plain": [
       "<Figure size 432x288 with 0 Axes>"
      ]
     },
     "metadata": {},
     "output_type": "display_data"
    },
    {
     "data": {
      "text/plain": [
       "<Figure size 432x288 with 0 Axes>"
      ]
     },
     "metadata": {},
     "output_type": "display_data"
    },
    {
     "data": {
      "text/plain": [
       "<Figure size 432x288 with 0 Axes>"
      ]
     },
     "metadata": {},
     "output_type": "display_data"
    },
    {
     "data": {
      "text/plain": [
       "<Figure size 432x288 with 0 Axes>"
      ]
     },
     "metadata": {},
     "output_type": "display_data"
    },
    {
     "data": {
      "text/plain": [
       "<Figure size 432x288 with 0 Axes>"
      ]
     },
     "metadata": {},
     "output_type": "display_data"
    },
    {
     "data": {
      "text/plain": [
       "<Figure size 432x288 with 0 Axes>"
      ]
     },
     "metadata": {},
     "output_type": "display_data"
    },
    {
     "data": {
      "text/plain": [
       "<Figure size 432x288 with 0 Axes>"
      ]
     },
     "metadata": {},
     "output_type": "display_data"
    },
    {
     "data": {
      "text/plain": [
       "<Figure size 432x288 with 0 Axes>"
      ]
     },
     "metadata": {},
     "output_type": "display_data"
    },
    {
     "data": {
      "text/plain": [
       "<Figure size 432x288 with 0 Axes>"
      ]
     },
     "metadata": {},
     "output_type": "display_data"
    },
    {
     "data": {
      "text/plain": [
       "<Figure size 432x288 with 0 Axes>"
      ]
     },
     "metadata": {},
     "output_type": "display_data"
    },
    {
     "data": {
      "text/plain": [
       "<Figure size 432x288 with 0 Axes>"
      ]
     },
     "metadata": {},
     "output_type": "display_data"
    },
    {
     "data": {
      "text/plain": [
       "<Figure size 432x288 with 0 Axes>"
      ]
     },
     "metadata": {},
     "output_type": "display_data"
    },
    {
     "data": {
      "text/plain": [
       "<Figure size 432x288 with 0 Axes>"
      ]
     },
     "metadata": {},
     "output_type": "display_data"
    },
    {
     "data": {
      "text/plain": [
       "<Figure size 432x288 with 0 Axes>"
      ]
     },
     "metadata": {},
     "output_type": "display_data"
    },
    {
     "data": {
      "text/plain": [
       "<Figure size 432x288 with 0 Axes>"
      ]
     },
     "metadata": {},
     "output_type": "display_data"
    },
    {
     "data": {
      "text/plain": [
       "<Figure size 432x288 with 0 Axes>"
      ]
     },
     "metadata": {},
     "output_type": "display_data"
    },
    {
     "data": {
      "text/plain": [
       "<Figure size 432x288 with 0 Axes>"
      ]
     },
     "metadata": {},
     "output_type": "display_data"
    },
    {
     "data": {
      "text/plain": [
       "<Figure size 432x288 with 0 Axes>"
      ]
     },
     "metadata": {},
     "output_type": "display_data"
    },
    {
     "data": {
      "text/plain": [
       "<Figure size 432x288 with 0 Axes>"
      ]
     },
     "metadata": {},
     "output_type": "display_data"
    },
    {
     "data": {
      "text/plain": [
       "<Figure size 432x288 with 0 Axes>"
      ]
     },
     "metadata": {},
     "output_type": "display_data"
    },
    {
     "data": {
      "text/plain": [
       "<Figure size 432x288 with 0 Axes>"
      ]
     },
     "metadata": {},
     "output_type": "display_data"
    },
    {
     "data": {
      "text/plain": [
       "<Figure size 432x288 with 0 Axes>"
      ]
     },
     "metadata": {},
     "output_type": "display_data"
    },
    {
     "data": {
      "text/plain": [
       "<Figure size 432x288 with 0 Axes>"
      ]
     },
     "metadata": {},
     "output_type": "display_data"
    },
    {
     "data": {
      "text/plain": [
       "<Figure size 432x288 with 0 Axes>"
      ]
     },
     "metadata": {},
     "output_type": "display_data"
    },
    {
     "data": {
      "text/plain": [
       "<Figure size 432x288 with 0 Axes>"
      ]
     },
     "metadata": {},
     "output_type": "display_data"
    },
    {
     "data": {
      "text/plain": [
       "<Figure size 432x288 with 0 Axes>"
      ]
     },
     "metadata": {},
     "output_type": "display_data"
    },
    {
     "data": {
      "text/plain": [
       "<Figure size 432x288 with 0 Axes>"
      ]
     },
     "metadata": {},
     "output_type": "display_data"
    },
    {
     "data": {
      "text/plain": [
       "<Figure size 432x288 with 0 Axes>"
      ]
     },
     "metadata": {},
     "output_type": "display_data"
    },
    {
     "data": {
      "text/plain": [
       "<Figure size 432x288 with 0 Axes>"
      ]
     },
     "metadata": {},
     "output_type": "display_data"
    },
    {
     "data": {
      "text/plain": [
       "<Figure size 432x288 with 0 Axes>"
      ]
     },
     "metadata": {},
     "output_type": "display_data"
    },
    {
     "data": {
      "text/plain": [
       "<Figure size 432x288 with 0 Axes>"
      ]
     },
     "metadata": {},
     "output_type": "display_data"
    },
    {
     "data": {
      "text/plain": [
       "<Figure size 432x288 with 0 Axes>"
      ]
     },
     "metadata": {},
     "output_type": "display_data"
    },
    {
     "data": {
      "text/plain": [
       "<Figure size 432x288 with 0 Axes>"
      ]
     },
     "metadata": {},
     "output_type": "display_data"
    },
    {
     "data": {
      "text/plain": [
       "<Figure size 432x288 with 0 Axes>"
      ]
     },
     "metadata": {},
     "output_type": "display_data"
    },
    {
     "data": {
      "text/plain": [
       "<Figure size 432x288 with 0 Axes>"
      ]
     },
     "metadata": {},
     "output_type": "display_data"
    },
    {
     "data": {
      "text/plain": [
       "<Figure size 432x288 with 0 Axes>"
      ]
     },
     "metadata": {},
     "output_type": "display_data"
    },
    {
     "data": {
      "text/plain": [
       "<Figure size 432x288 with 0 Axes>"
      ]
     },
     "metadata": {},
     "output_type": "display_data"
    },
    {
     "data": {
      "text/plain": [
       "<Figure size 432x288 with 0 Axes>"
      ]
     },
     "metadata": {},
     "output_type": "display_data"
    },
    {
     "data": {
      "text/plain": [
       "<Figure size 432x288 with 0 Axes>"
      ]
     },
     "metadata": {},
     "output_type": "display_data"
    },
    {
     "data": {
      "text/plain": [
       "<Figure size 432x288 with 0 Axes>"
      ]
     },
     "metadata": {},
     "output_type": "display_data"
    },
    {
     "data": {
      "text/plain": [
       "<Figure size 432x288 with 0 Axes>"
      ]
     },
     "metadata": {},
     "output_type": "display_data"
    },
    {
     "data": {
      "text/plain": [
       "<Figure size 432x288 with 0 Axes>"
      ]
     },
     "metadata": {},
     "output_type": "display_data"
    },
    {
     "data": {
      "text/plain": [
       "<Figure size 432x288 with 0 Axes>"
      ]
     },
     "metadata": {},
     "output_type": "display_data"
    },
    {
     "data": {
      "text/plain": [
       "<Figure size 432x288 with 0 Axes>"
      ]
     },
     "metadata": {},
     "output_type": "display_data"
    },
    {
     "data": {
      "text/plain": [
       "<Figure size 432x288 with 0 Axes>"
      ]
     },
     "metadata": {},
     "output_type": "display_data"
    },
    {
     "data": {
      "text/plain": [
       "<Figure size 432x288 with 0 Axes>"
      ]
     },
     "metadata": {},
     "output_type": "display_data"
    },
    {
     "data": {
      "text/plain": [
       "<Figure size 432x288 with 0 Axes>"
      ]
     },
     "metadata": {},
     "output_type": "display_data"
    },
    {
     "data": {
      "text/plain": [
       "<Figure size 432x288 with 0 Axes>"
      ]
     },
     "metadata": {},
     "output_type": "display_data"
    },
    {
     "data": {
      "text/plain": [
       "<Figure size 432x288 with 0 Axes>"
      ]
     },
     "metadata": {},
     "output_type": "display_data"
    },
    {
     "data": {
      "text/plain": [
       "<Figure size 432x288 with 0 Axes>"
      ]
     },
     "metadata": {},
     "output_type": "display_data"
    },
    {
     "data": {
      "text/plain": [
       "<Figure size 432x288 with 0 Axes>"
      ]
     },
     "metadata": {},
     "output_type": "display_data"
    },
    {
     "data": {
      "text/plain": [
       "<Figure size 432x288 with 0 Axes>"
      ]
     },
     "metadata": {},
     "output_type": "display_data"
    },
    {
     "data": {
      "text/plain": [
       "<Figure size 432x288 with 0 Axes>"
      ]
     },
     "metadata": {},
     "output_type": "display_data"
    },
    {
     "data": {
      "text/plain": [
       "<Figure size 432x288 with 0 Axes>"
      ]
     },
     "metadata": {},
     "output_type": "display_data"
    },
    {
     "data": {
      "text/plain": [
       "<Figure size 432x288 with 0 Axes>"
      ]
     },
     "metadata": {},
     "output_type": "display_data"
    },
    {
     "data": {
      "text/plain": [
       "<Figure size 432x288 with 0 Axes>"
      ]
     },
     "metadata": {},
     "output_type": "display_data"
    },
    {
     "data": {
      "text/plain": [
       "<Figure size 432x288 with 0 Axes>"
      ]
     },
     "metadata": {},
     "output_type": "display_data"
    },
    {
     "data": {
      "text/plain": [
       "<Figure size 432x288 with 0 Axes>"
      ]
     },
     "metadata": {},
     "output_type": "display_data"
    },
    {
     "data": {
      "text/plain": [
       "<Figure size 432x288 with 0 Axes>"
      ]
     },
     "metadata": {},
     "output_type": "display_data"
    },
    {
     "data": {
      "text/plain": [
       "<Figure size 432x288 with 0 Axes>"
      ]
     },
     "metadata": {},
     "output_type": "display_data"
    },
    {
     "data": {
      "text/plain": [
       "<Figure size 432x288 with 0 Axes>"
      ]
     },
     "metadata": {},
     "output_type": "display_data"
    },
    {
     "data": {
      "text/plain": [
       "<Figure size 432x288 with 0 Axes>"
      ]
     },
     "metadata": {},
     "output_type": "display_data"
    },
    {
     "data": {
      "text/plain": [
       "<Figure size 432x288 with 0 Axes>"
      ]
     },
     "metadata": {},
     "output_type": "display_data"
    },
    {
     "data": {
      "text/plain": [
       "<Figure size 432x288 with 0 Axes>"
      ]
     },
     "metadata": {},
     "output_type": "display_data"
    },
    {
     "data": {
      "text/plain": [
       "<Figure size 432x288 with 0 Axes>"
      ]
     },
     "metadata": {},
     "output_type": "display_data"
    },
    {
     "data": {
      "text/plain": [
       "<Figure size 432x288 with 0 Axes>"
      ]
     },
     "metadata": {},
     "output_type": "display_data"
    },
    {
     "data": {
      "text/plain": [
       "<Figure size 432x288 with 0 Axes>"
      ]
     },
     "metadata": {},
     "output_type": "display_data"
    },
    {
     "data": {
      "text/plain": [
       "<Figure size 432x288 with 0 Axes>"
      ]
     },
     "metadata": {},
     "output_type": "display_data"
    },
    {
     "data": {
      "text/plain": [
       "<Figure size 432x288 with 0 Axes>"
      ]
     },
     "metadata": {},
     "output_type": "display_data"
    },
    {
     "data": {
      "text/plain": [
       "<Figure size 432x288 with 0 Axes>"
      ]
     },
     "metadata": {},
     "output_type": "display_data"
    },
    {
     "data": {
      "text/plain": [
       "<Figure size 432x288 with 0 Axes>"
      ]
     },
     "metadata": {},
     "output_type": "display_data"
    },
    {
     "data": {
      "text/plain": [
       "<Figure size 432x288 with 0 Axes>"
      ]
     },
     "metadata": {},
     "output_type": "display_data"
    },
    {
     "data": {
      "text/plain": [
       "<Figure size 432x288 with 0 Axes>"
      ]
     },
     "metadata": {},
     "output_type": "display_data"
    },
    {
     "data": {
      "text/plain": [
       "<Figure size 432x288 with 0 Axes>"
      ]
     },
     "metadata": {},
     "output_type": "display_data"
    },
    {
     "data": {
      "text/plain": [
       "<Figure size 432x288 with 0 Axes>"
      ]
     },
     "metadata": {},
     "output_type": "display_data"
    },
    {
     "data": {
      "text/plain": [
       "<Figure size 432x288 with 0 Axes>"
      ]
     },
     "metadata": {},
     "output_type": "display_data"
    },
    {
     "data": {
      "text/plain": [
       "<Figure size 432x288 with 0 Axes>"
      ]
     },
     "metadata": {},
     "output_type": "display_data"
    },
    {
     "data": {
      "text/plain": [
       "<Figure size 432x288 with 0 Axes>"
      ]
     },
     "metadata": {},
     "output_type": "display_data"
    },
    {
     "data": {
      "text/plain": [
       "<Figure size 432x288 with 0 Axes>"
      ]
     },
     "metadata": {},
     "output_type": "display_data"
    },
    {
     "data": {
      "text/plain": [
       "<Figure size 432x288 with 0 Axes>"
      ]
     },
     "metadata": {},
     "output_type": "display_data"
    },
    {
     "data": {
      "text/plain": [
       "<Figure size 432x288 with 0 Axes>"
      ]
     },
     "metadata": {},
     "output_type": "display_data"
    },
    {
     "data": {
      "text/plain": [
       "<Figure size 432x288 with 0 Axes>"
      ]
     },
     "metadata": {},
     "output_type": "display_data"
    },
    {
     "data": {
      "text/plain": [
       "<Figure size 432x288 with 0 Axes>"
      ]
     },
     "metadata": {},
     "output_type": "display_data"
    },
    {
     "data": {
      "text/plain": [
       "<Figure size 432x288 with 0 Axes>"
      ]
     },
     "metadata": {},
     "output_type": "display_data"
    },
    {
     "data": {
      "text/plain": [
       "<Figure size 432x288 with 0 Axes>"
      ]
     },
     "metadata": {},
     "output_type": "display_data"
    },
    {
     "data": {
      "text/plain": [
       "<Figure size 432x288 with 0 Axes>"
      ]
     },
     "metadata": {},
     "output_type": "display_data"
    },
    {
     "data": {
      "text/plain": [
       "<Figure size 432x288 with 0 Axes>"
      ]
     },
     "metadata": {},
     "output_type": "display_data"
    },
    {
     "data": {
      "text/plain": [
       "<Figure size 432x288 with 0 Axes>"
      ]
     },
     "metadata": {},
     "output_type": "display_data"
    },
    {
     "data": {
      "text/plain": [
       "<Figure size 432x288 with 0 Axes>"
      ]
     },
     "metadata": {},
     "output_type": "display_data"
    },
    {
     "data": {
      "text/plain": [
       "<Figure size 432x288 with 0 Axes>"
      ]
     },
     "metadata": {},
     "output_type": "display_data"
    },
    {
     "data": {
      "text/plain": [
       "<Figure size 432x288 with 0 Axes>"
      ]
     },
     "metadata": {},
     "output_type": "display_data"
    },
    {
     "data": {
      "text/plain": [
       "<Figure size 432x288 with 0 Axes>"
      ]
     },
     "metadata": {},
     "output_type": "display_data"
    },
    {
     "data": {
      "text/plain": [
       "<Figure size 432x288 with 0 Axes>"
      ]
     },
     "metadata": {},
     "output_type": "display_data"
    },
    {
     "data": {
      "text/plain": [
       "<Figure size 432x288 with 0 Axes>"
      ]
     },
     "metadata": {},
     "output_type": "display_data"
    },
    {
     "data": {
      "text/plain": [
       "<Figure size 432x288 with 0 Axes>"
      ]
     },
     "metadata": {},
     "output_type": "display_data"
    },
    {
     "data": {
      "text/plain": [
       "<Figure size 432x288 with 0 Axes>"
      ]
     },
     "metadata": {},
     "output_type": "display_data"
    },
    {
     "data": {
      "text/plain": [
       "<Figure size 432x288 with 0 Axes>"
      ]
     },
     "metadata": {},
     "output_type": "display_data"
    },
    {
     "data": {
      "text/plain": [
       "<Figure size 432x288 with 0 Axes>"
      ]
     },
     "metadata": {},
     "output_type": "display_data"
    },
    {
     "data": {
      "text/plain": [
       "<Figure size 432x288 with 0 Axes>"
      ]
     },
     "metadata": {},
     "output_type": "display_data"
    },
    {
     "data": {
      "text/plain": [
       "<Figure size 432x288 with 0 Axes>"
      ]
     },
     "metadata": {},
     "output_type": "display_data"
    },
    {
     "data": {
      "text/plain": [
       "<Figure size 432x288 with 0 Axes>"
      ]
     },
     "metadata": {},
     "output_type": "display_data"
    },
    {
     "data": {
      "text/plain": [
       "<Figure size 432x288 with 0 Axes>"
      ]
     },
     "metadata": {},
     "output_type": "display_data"
    },
    {
     "data": {
      "text/plain": [
       "<Figure size 432x288 with 0 Axes>"
      ]
     },
     "metadata": {},
     "output_type": "display_data"
    },
    {
     "data": {
      "text/plain": [
       "<Figure size 432x288 with 0 Axes>"
      ]
     },
     "metadata": {},
     "output_type": "display_data"
    },
    {
     "data": {
      "text/plain": [
       "<Figure size 432x288 with 0 Axes>"
      ]
     },
     "metadata": {},
     "output_type": "display_data"
    },
    {
     "data": {
      "text/plain": [
       "<Figure size 432x288 with 0 Axes>"
      ]
     },
     "metadata": {},
     "output_type": "display_data"
    },
    {
     "data": {
      "text/plain": [
       "<Figure size 432x288 with 0 Axes>"
      ]
     },
     "metadata": {},
     "output_type": "display_data"
    },
    {
     "data": {
      "text/plain": [
       "<Figure size 432x288 with 0 Axes>"
      ]
     },
     "metadata": {},
     "output_type": "display_data"
    },
    {
     "data": {
      "text/plain": [
       "<Figure size 432x288 with 0 Axes>"
      ]
     },
     "metadata": {},
     "output_type": "display_data"
    },
    {
     "data": {
      "text/plain": [
       "<Figure size 432x288 with 0 Axes>"
      ]
     },
     "metadata": {},
     "output_type": "display_data"
    },
    {
     "data": {
      "text/plain": [
       "<Figure size 432x288 with 0 Axes>"
      ]
     },
     "metadata": {},
     "output_type": "display_data"
    },
    {
     "data": {
      "text/plain": [
       "<Figure size 432x288 with 0 Axes>"
      ]
     },
     "metadata": {},
     "output_type": "display_data"
    },
    {
     "data": {
      "text/plain": [
       "<Figure size 432x288 with 0 Axes>"
      ]
     },
     "metadata": {},
     "output_type": "display_data"
    },
    {
     "data": {
      "text/plain": [
       "<Figure size 432x288 with 0 Axes>"
      ]
     },
     "metadata": {},
     "output_type": "display_data"
    },
    {
     "data": {
      "text/plain": [
       "<Figure size 432x288 with 0 Axes>"
      ]
     },
     "metadata": {},
     "output_type": "display_data"
    },
    {
     "data": {
      "text/plain": [
       "<Figure size 432x288 with 0 Axes>"
      ]
     },
     "metadata": {},
     "output_type": "display_data"
    },
    {
     "data": {
      "text/plain": [
       "<Figure size 432x288 with 0 Axes>"
      ]
     },
     "metadata": {},
     "output_type": "display_data"
    },
    {
     "data": {
      "text/plain": [
       "<Figure size 432x288 with 0 Axes>"
      ]
     },
     "metadata": {},
     "output_type": "display_data"
    },
    {
     "data": {
      "text/plain": [
       "<Figure size 432x288 with 0 Axes>"
      ]
     },
     "metadata": {},
     "output_type": "display_data"
    },
    {
     "data": {
      "text/plain": [
       "<Figure size 432x288 with 0 Axes>"
      ]
     },
     "metadata": {},
     "output_type": "display_data"
    },
    {
     "data": {
      "text/plain": [
       "<Figure size 432x288 with 0 Axes>"
      ]
     },
     "metadata": {},
     "output_type": "display_data"
    },
    {
     "data": {
      "text/plain": [
       "<Figure size 432x288 with 0 Axes>"
      ]
     },
     "metadata": {},
     "output_type": "display_data"
    },
    {
     "data": {
      "text/plain": [
       "<Figure size 432x288 with 0 Axes>"
      ]
     },
     "metadata": {},
     "output_type": "display_data"
    },
    {
     "data": {
      "text/plain": [
       "<Figure size 432x288 with 0 Axes>"
      ]
     },
     "metadata": {},
     "output_type": "display_data"
    },
    {
     "data": {
      "text/plain": [
       "<Figure size 432x288 with 0 Axes>"
      ]
     },
     "metadata": {},
     "output_type": "display_data"
    },
    {
     "data": {
      "text/plain": [
       "<Figure size 432x288 with 0 Axes>"
      ]
     },
     "metadata": {},
     "output_type": "display_data"
    },
    {
     "data": {
      "text/plain": [
       "<Figure size 432x288 with 0 Axes>"
      ]
     },
     "metadata": {},
     "output_type": "display_data"
    },
    {
     "data": {
      "text/plain": [
       "<Figure size 432x288 with 0 Axes>"
      ]
     },
     "metadata": {},
     "output_type": "display_data"
    },
    {
     "data": {
      "text/plain": [
       "<Figure size 432x288 with 0 Axes>"
      ]
     },
     "metadata": {},
     "output_type": "display_data"
    },
    {
     "data": {
      "text/plain": [
       "<Figure size 432x288 with 0 Axes>"
      ]
     },
     "metadata": {},
     "output_type": "display_data"
    },
    {
     "data": {
      "text/plain": [
       "<Figure size 432x288 with 0 Axes>"
      ]
     },
     "metadata": {},
     "output_type": "display_data"
    },
    {
     "data": {
      "text/plain": [
       "<Figure size 432x288 with 0 Axes>"
      ]
     },
     "metadata": {},
     "output_type": "display_data"
    },
    {
     "data": {
      "text/plain": [
       "<Figure size 432x288 with 0 Axes>"
      ]
     },
     "metadata": {},
     "output_type": "display_data"
    },
    {
     "data": {
      "text/plain": [
       "<Figure size 432x288 with 0 Axes>"
      ]
     },
     "metadata": {},
     "output_type": "display_data"
    },
    {
     "data": {
      "text/plain": [
       "<Figure size 432x288 with 0 Axes>"
      ]
     },
     "metadata": {},
     "output_type": "display_data"
    },
    {
     "data": {
      "text/plain": [
       "<Figure size 432x288 with 0 Axes>"
      ]
     },
     "metadata": {},
     "output_type": "display_data"
    },
    {
     "data": {
      "text/plain": [
       "<Figure size 432x288 with 0 Axes>"
      ]
     },
     "metadata": {},
     "output_type": "display_data"
    },
    {
     "data": {
      "text/plain": [
       "<Figure size 432x288 with 0 Axes>"
      ]
     },
     "metadata": {},
     "output_type": "display_data"
    },
    {
     "data": {
      "text/plain": [
       "<Figure size 432x288 with 0 Axes>"
      ]
     },
     "metadata": {},
     "output_type": "display_data"
    },
    {
     "data": {
      "text/plain": [
       "<Figure size 432x288 with 0 Axes>"
      ]
     },
     "metadata": {},
     "output_type": "display_data"
    },
    {
     "data": {
      "text/plain": [
       "<Figure size 432x288 with 0 Axes>"
      ]
     },
     "metadata": {},
     "output_type": "display_data"
    },
    {
     "data": {
      "text/plain": [
       "<Figure size 432x288 with 0 Axes>"
      ]
     },
     "metadata": {},
     "output_type": "display_data"
    },
    {
     "data": {
      "text/plain": [
       "<Figure size 432x288 with 0 Axes>"
      ]
     },
     "metadata": {},
     "output_type": "display_data"
    },
    {
     "data": {
      "text/plain": [
       "<Figure size 432x288 with 0 Axes>"
      ]
     },
     "metadata": {},
     "output_type": "display_data"
    },
    {
     "data": {
      "text/plain": [
       "<Figure size 432x288 with 0 Axes>"
      ]
     },
     "metadata": {},
     "output_type": "display_data"
    },
    {
     "data": {
      "text/plain": [
       "<Figure size 432x288 with 0 Axes>"
      ]
     },
     "metadata": {},
     "output_type": "display_data"
    },
    {
     "data": {
      "text/plain": [
       "<Figure size 432x288 with 0 Axes>"
      ]
     },
     "metadata": {},
     "output_type": "display_data"
    },
    {
     "data": {
      "text/plain": [
       "<Figure size 432x288 with 0 Axes>"
      ]
     },
     "metadata": {},
     "output_type": "display_data"
    },
    {
     "data": {
      "text/plain": [
       "<Figure size 432x288 with 0 Axes>"
      ]
     },
     "metadata": {},
     "output_type": "display_data"
    },
    {
     "data": {
      "text/plain": [
       "<Figure size 432x288 with 0 Axes>"
      ]
     },
     "metadata": {},
     "output_type": "display_data"
    },
    {
     "data": {
      "text/plain": [
       "<Figure size 432x288 with 0 Axes>"
      ]
     },
     "metadata": {},
     "output_type": "display_data"
    },
    {
     "data": {
      "text/plain": [
       "<Figure size 432x288 with 0 Axes>"
      ]
     },
     "metadata": {},
     "output_type": "display_data"
    },
    {
     "data": {
      "text/plain": [
       "<Figure size 432x288 with 0 Axes>"
      ]
     },
     "metadata": {},
     "output_type": "display_data"
    },
    {
     "data": {
      "text/plain": [
       "<Figure size 432x288 with 0 Axes>"
      ]
     },
     "metadata": {},
     "output_type": "display_data"
    },
    {
     "data": {
      "text/plain": [
       "<Figure size 432x288 with 0 Axes>"
      ]
     },
     "metadata": {},
     "output_type": "display_data"
    },
    {
     "data": {
      "text/plain": [
       "<Figure size 432x288 with 0 Axes>"
      ]
     },
     "metadata": {},
     "output_type": "display_data"
    },
    {
     "data": {
      "text/plain": [
       "<Figure size 432x288 with 0 Axes>"
      ]
     },
     "metadata": {},
     "output_type": "display_data"
    },
    {
     "data": {
      "text/plain": [
       "<Figure size 432x288 with 0 Axes>"
      ]
     },
     "metadata": {},
     "output_type": "display_data"
    },
    {
     "data": {
      "text/plain": [
       "<Figure size 432x288 with 0 Axes>"
      ]
     },
     "metadata": {},
     "output_type": "display_data"
    },
    {
     "data": {
      "text/plain": [
       "<Figure size 432x288 with 0 Axes>"
      ]
     },
     "metadata": {},
     "output_type": "display_data"
    },
    {
     "data": {
      "text/plain": [
       "<Figure size 432x288 with 0 Axes>"
      ]
     },
     "metadata": {},
     "output_type": "display_data"
    },
    {
     "data": {
      "text/plain": [
       "<Figure size 432x288 with 0 Axes>"
      ]
     },
     "metadata": {},
     "output_type": "display_data"
    },
    {
     "data": {
      "text/plain": [
       "<Figure size 432x288 with 0 Axes>"
      ]
     },
     "metadata": {},
     "output_type": "display_data"
    },
    {
     "data": {
      "text/plain": [
       "<Figure size 432x288 with 0 Axes>"
      ]
     },
     "metadata": {},
     "output_type": "display_data"
    },
    {
     "data": {
      "text/plain": [
       "<Figure size 432x288 with 0 Axes>"
      ]
     },
     "metadata": {},
     "output_type": "display_data"
    },
    {
     "data": {
      "text/plain": [
       "<Figure size 432x288 with 0 Axes>"
      ]
     },
     "metadata": {},
     "output_type": "display_data"
    },
    {
     "data": {
      "text/plain": [
       "<Figure size 432x288 with 0 Axes>"
      ]
     },
     "metadata": {},
     "output_type": "display_data"
    },
    {
     "data": {
      "text/plain": [
       "<Figure size 432x288 with 0 Axes>"
      ]
     },
     "metadata": {},
     "output_type": "display_data"
    },
    {
     "data": {
      "text/plain": [
       "<Figure size 432x288 with 0 Axes>"
      ]
     },
     "metadata": {},
     "output_type": "display_data"
    },
    {
     "data": {
      "text/plain": [
       "<Figure size 432x288 with 0 Axes>"
      ]
     },
     "metadata": {},
     "output_type": "display_data"
    },
    {
     "data": {
      "text/plain": [
       "<Figure size 432x288 with 0 Axes>"
      ]
     },
     "metadata": {},
     "output_type": "display_data"
    },
    {
     "data": {
      "text/plain": [
       "<Figure size 432x288 with 0 Axes>"
      ]
     },
     "metadata": {},
     "output_type": "display_data"
    },
    {
     "data": {
      "text/plain": [
       "<Figure size 432x288 with 0 Axes>"
      ]
     },
     "metadata": {},
     "output_type": "display_data"
    },
    {
     "data": {
      "text/plain": [
       "<Figure size 432x288 with 0 Axes>"
      ]
     },
     "metadata": {},
     "output_type": "display_data"
    },
    {
     "data": {
      "text/plain": [
       "<Figure size 432x288 with 0 Axes>"
      ]
     },
     "metadata": {},
     "output_type": "display_data"
    },
    {
     "data": {
      "text/plain": [
       "<Figure size 432x288 with 0 Axes>"
      ]
     },
     "metadata": {},
     "output_type": "display_data"
    },
    {
     "data": {
      "text/plain": [
       "<Figure size 432x288 with 0 Axes>"
      ]
     },
     "metadata": {},
     "output_type": "display_data"
    },
    {
     "data": {
      "text/plain": [
       "<Figure size 432x288 with 0 Axes>"
      ]
     },
     "metadata": {},
     "output_type": "display_data"
    },
    {
     "data": {
      "text/plain": [
       "<Figure size 432x288 with 0 Axes>"
      ]
     },
     "metadata": {},
     "output_type": "display_data"
    },
    {
     "data": {
      "text/plain": [
       "<Figure size 432x288 with 0 Axes>"
      ]
     },
     "metadata": {},
     "output_type": "display_data"
    },
    {
     "data": {
      "text/plain": [
       "<Figure size 432x288 with 0 Axes>"
      ]
     },
     "metadata": {},
     "output_type": "display_data"
    },
    {
     "data": {
      "text/plain": [
       "<Figure size 432x288 with 0 Axes>"
      ]
     },
     "metadata": {},
     "output_type": "display_data"
    },
    {
     "data": {
      "text/plain": [
       "<Figure size 432x288 with 0 Axes>"
      ]
     },
     "metadata": {},
     "output_type": "display_data"
    },
    {
     "data": {
      "text/plain": [
       "<Figure size 432x288 with 0 Axes>"
      ]
     },
     "metadata": {},
     "output_type": "display_data"
    },
    {
     "data": {
      "text/plain": [
       "<Figure size 432x288 with 0 Axes>"
      ]
     },
     "metadata": {},
     "output_type": "display_data"
    },
    {
     "data": {
      "text/plain": [
       "<Figure size 432x288 with 0 Axes>"
      ]
     },
     "metadata": {},
     "output_type": "display_data"
    },
    {
     "data": {
      "text/plain": [
       "<Figure size 432x288 with 0 Axes>"
      ]
     },
     "metadata": {},
     "output_type": "display_data"
    },
    {
     "data": {
      "text/plain": [
       "<Figure size 432x288 with 0 Axes>"
      ]
     },
     "metadata": {},
     "output_type": "display_data"
    },
    {
     "data": {
      "text/plain": [
       "<Figure size 432x288 with 0 Axes>"
      ]
     },
     "metadata": {},
     "output_type": "display_data"
    },
    {
     "data": {
      "text/plain": [
       "<Figure size 432x288 with 0 Axes>"
      ]
     },
     "metadata": {},
     "output_type": "display_data"
    },
    {
     "data": {
      "text/plain": [
       "<Figure size 432x288 with 0 Axes>"
      ]
     },
     "metadata": {},
     "output_type": "display_data"
    },
    {
     "data": {
      "text/plain": [
       "<Figure size 432x288 with 0 Axes>"
      ]
     },
     "metadata": {},
     "output_type": "display_data"
    },
    {
     "data": {
      "text/plain": [
       "<Figure size 432x288 with 0 Axes>"
      ]
     },
     "metadata": {},
     "output_type": "display_data"
    },
    {
     "data": {
      "text/plain": [
       "<Figure size 432x288 with 0 Axes>"
      ]
     },
     "metadata": {},
     "output_type": "display_data"
    },
    {
     "data": {
      "text/plain": [
       "<Figure size 432x288 with 0 Axes>"
      ]
     },
     "metadata": {},
     "output_type": "display_data"
    },
    {
     "data": {
      "text/plain": [
       "<Figure size 432x288 with 0 Axes>"
      ]
     },
     "metadata": {},
     "output_type": "display_data"
    },
    {
     "data": {
      "text/plain": [
       "<Figure size 432x288 with 0 Axes>"
      ]
     },
     "metadata": {},
     "output_type": "display_data"
    },
    {
     "data": {
      "text/plain": [
       "<Figure size 432x288 with 0 Axes>"
      ]
     },
     "metadata": {},
     "output_type": "display_data"
    },
    {
     "data": {
      "text/plain": [
       "<Figure size 432x288 with 0 Axes>"
      ]
     },
     "metadata": {},
     "output_type": "display_data"
    },
    {
     "data": {
      "text/plain": [
       "<Figure size 432x288 with 0 Axes>"
      ]
     },
     "metadata": {},
     "output_type": "display_data"
    },
    {
     "data": {
      "text/plain": [
       "<Figure size 432x288 with 0 Axes>"
      ]
     },
     "metadata": {},
     "output_type": "display_data"
    },
    {
     "data": {
      "text/plain": [
       "<Figure size 432x288 with 0 Axes>"
      ]
     },
     "metadata": {},
     "output_type": "display_data"
    },
    {
     "data": {
      "text/plain": [
       "<Figure size 432x288 with 0 Axes>"
      ]
     },
     "metadata": {},
     "output_type": "display_data"
    },
    {
     "data": {
      "text/plain": [
       "<Figure size 432x288 with 0 Axes>"
      ]
     },
     "metadata": {},
     "output_type": "display_data"
    },
    {
     "data": {
      "text/plain": [
       "<Figure size 432x288 with 0 Axes>"
      ]
     },
     "metadata": {},
     "output_type": "display_data"
    },
    {
     "data": {
      "text/plain": [
       "<Figure size 432x288 with 0 Axes>"
      ]
     },
     "metadata": {},
     "output_type": "display_data"
    },
    {
     "data": {
      "text/plain": [
       "<Figure size 432x288 with 0 Axes>"
      ]
     },
     "metadata": {},
     "output_type": "display_data"
    },
    {
     "data": {
      "text/plain": [
       "<Figure size 432x288 with 0 Axes>"
      ]
     },
     "metadata": {},
     "output_type": "display_data"
    },
    {
     "data": {
      "text/plain": [
       "<Figure size 432x288 with 0 Axes>"
      ]
     },
     "metadata": {},
     "output_type": "display_data"
    },
    {
     "data": {
      "text/plain": [
       "<Figure size 432x288 with 0 Axes>"
      ]
     },
     "metadata": {},
     "output_type": "display_data"
    },
    {
     "data": {
      "text/plain": [
       "<Figure size 432x288 with 0 Axes>"
      ]
     },
     "metadata": {},
     "output_type": "display_data"
    },
    {
     "data": {
      "text/plain": [
       "<Figure size 432x288 with 0 Axes>"
      ]
     },
     "metadata": {},
     "output_type": "display_data"
    },
    {
     "data": {
      "text/plain": [
       "<Figure size 432x288 with 0 Axes>"
      ]
     },
     "metadata": {},
     "output_type": "display_data"
    },
    {
     "data": {
      "text/plain": [
       "<Figure size 432x288 with 0 Axes>"
      ]
     },
     "metadata": {},
     "output_type": "display_data"
    },
    {
     "data": {
      "text/plain": [
       "<Figure size 432x288 with 0 Axes>"
      ]
     },
     "metadata": {},
     "output_type": "display_data"
    },
    {
     "data": {
      "text/plain": [
       "<Figure size 432x288 with 0 Axes>"
      ]
     },
     "metadata": {},
     "output_type": "display_data"
    },
    {
     "data": {
      "text/plain": [
       "<Figure size 432x288 with 0 Axes>"
      ]
     },
     "metadata": {},
     "output_type": "display_data"
    },
    {
     "data": {
      "text/plain": [
       "<Figure size 432x288 with 0 Axes>"
      ]
     },
     "metadata": {},
     "output_type": "display_data"
    },
    {
     "data": {
      "text/plain": [
       "<Figure size 432x288 with 0 Axes>"
      ]
     },
     "metadata": {},
     "output_type": "display_data"
    },
    {
     "data": {
      "text/plain": [
       "<Figure size 432x288 with 0 Axes>"
      ]
     },
     "metadata": {},
     "output_type": "display_data"
    },
    {
     "data": {
      "text/plain": [
       "<Figure size 432x288 with 0 Axes>"
      ]
     },
     "metadata": {},
     "output_type": "display_data"
    },
    {
     "data": {
      "text/plain": [
       "<Figure size 432x288 with 0 Axes>"
      ]
     },
     "metadata": {},
     "output_type": "display_data"
    },
    {
     "data": {
      "text/plain": [
       "<Figure size 432x288 with 0 Axes>"
      ]
     },
     "metadata": {},
     "output_type": "display_data"
    },
    {
     "data": {
      "text/plain": [
       "<Figure size 432x288 with 0 Axes>"
      ]
     },
     "metadata": {},
     "output_type": "display_data"
    },
    {
     "data": {
      "text/plain": [
       "<Figure size 432x288 with 0 Axes>"
      ]
     },
     "metadata": {},
     "output_type": "display_data"
    },
    {
     "data": {
      "text/plain": [
       "<Figure size 432x288 with 0 Axes>"
      ]
     },
     "metadata": {},
     "output_type": "display_data"
    },
    {
     "data": {
      "text/plain": [
       "<Figure size 432x288 with 0 Axes>"
      ]
     },
     "metadata": {},
     "output_type": "display_data"
    },
    {
     "data": {
      "text/plain": [
       "<Figure size 432x288 with 0 Axes>"
      ]
     },
     "metadata": {},
     "output_type": "display_data"
    },
    {
     "data": {
      "text/plain": [
       "<Figure size 432x288 with 0 Axes>"
      ]
     },
     "metadata": {},
     "output_type": "display_data"
    },
    {
     "data": {
      "text/plain": [
       "<Figure size 432x288 with 0 Axes>"
      ]
     },
     "metadata": {},
     "output_type": "display_data"
    },
    {
     "data": {
      "text/plain": [
       "<Figure size 432x288 with 0 Axes>"
      ]
     },
     "metadata": {},
     "output_type": "display_data"
    },
    {
     "data": {
      "text/plain": [
       "<Figure size 432x288 with 0 Axes>"
      ]
     },
     "metadata": {},
     "output_type": "display_data"
    },
    {
     "data": {
      "text/plain": [
       "<Figure size 432x288 with 0 Axes>"
      ]
     },
     "metadata": {},
     "output_type": "display_data"
    },
    {
     "data": {
      "text/plain": [
       "<Figure size 432x288 with 0 Axes>"
      ]
     },
     "metadata": {},
     "output_type": "display_data"
    },
    {
     "data": {
      "text/plain": [
       "<Figure size 432x288 with 0 Axes>"
      ]
     },
     "metadata": {},
     "output_type": "display_data"
    },
    {
     "data": {
      "text/plain": [
       "<Figure size 432x288 with 0 Axes>"
      ]
     },
     "metadata": {},
     "output_type": "display_data"
    },
    {
     "data": {
      "text/plain": [
       "<Figure size 432x288 with 0 Axes>"
      ]
     },
     "metadata": {},
     "output_type": "display_data"
    },
    {
     "data": {
      "text/plain": [
       "<Figure size 432x288 with 0 Axes>"
      ]
     },
     "metadata": {},
     "output_type": "display_data"
    },
    {
     "data": {
      "text/plain": [
       "<Figure size 432x288 with 0 Axes>"
      ]
     },
     "metadata": {},
     "output_type": "display_data"
    },
    {
     "data": {
      "text/plain": [
       "<Figure size 432x288 with 0 Axes>"
      ]
     },
     "metadata": {},
     "output_type": "display_data"
    },
    {
     "data": {
      "text/plain": [
       "<Figure size 432x288 with 0 Axes>"
      ]
     },
     "metadata": {},
     "output_type": "display_data"
    },
    {
     "data": {
      "text/plain": [
       "<Figure size 432x288 with 0 Axes>"
      ]
     },
     "metadata": {},
     "output_type": "display_data"
    },
    {
     "data": {
      "text/plain": [
       "<Figure size 432x288 with 0 Axes>"
      ]
     },
     "metadata": {},
     "output_type": "display_data"
    },
    {
     "data": {
      "text/plain": [
       "<Figure size 432x288 with 0 Axes>"
      ]
     },
     "metadata": {},
     "output_type": "display_data"
    },
    {
     "data": {
      "text/plain": [
       "<Figure size 432x288 with 0 Axes>"
      ]
     },
     "metadata": {},
     "output_type": "display_data"
    },
    {
     "data": {
      "text/plain": [
       "<Figure size 432x288 with 0 Axes>"
      ]
     },
     "metadata": {},
     "output_type": "display_data"
    },
    {
     "data": {
      "text/plain": [
       "<Figure size 432x288 with 0 Axes>"
      ]
     },
     "metadata": {},
     "output_type": "display_data"
    },
    {
     "data": {
      "text/plain": [
       "<Figure size 432x288 with 0 Axes>"
      ]
     },
     "metadata": {},
     "output_type": "display_data"
    },
    {
     "data": {
      "text/plain": [
       "<Figure size 432x288 with 0 Axes>"
      ]
     },
     "metadata": {},
     "output_type": "display_data"
    },
    {
     "data": {
      "text/plain": [
       "<Figure size 432x288 with 0 Axes>"
      ]
     },
     "metadata": {},
     "output_type": "display_data"
    },
    {
     "data": {
      "text/plain": [
       "<Figure size 432x288 with 0 Axes>"
      ]
     },
     "metadata": {},
     "output_type": "display_data"
    },
    {
     "data": {
      "text/plain": [
       "<Figure size 432x288 with 0 Axes>"
      ]
     },
     "metadata": {},
     "output_type": "display_data"
    },
    {
     "data": {
      "text/plain": [
       "<Figure size 432x288 with 0 Axes>"
      ]
     },
     "metadata": {},
     "output_type": "display_data"
    },
    {
     "data": {
      "text/plain": [
       "<Figure size 432x288 with 0 Axes>"
      ]
     },
     "metadata": {},
     "output_type": "display_data"
    },
    {
     "data": {
      "text/plain": [
       "<Figure size 432x288 with 0 Axes>"
      ]
     },
     "metadata": {},
     "output_type": "display_data"
    },
    {
     "data": {
      "text/plain": [
       "<Figure size 432x288 with 0 Axes>"
      ]
     },
     "metadata": {},
     "output_type": "display_data"
    },
    {
     "data": {
      "text/plain": [
       "<Figure size 432x288 with 0 Axes>"
      ]
     },
     "metadata": {},
     "output_type": "display_data"
    },
    {
     "data": {
      "text/plain": [
       "<Figure size 432x288 with 0 Axes>"
      ]
     },
     "metadata": {},
     "output_type": "display_data"
    },
    {
     "data": {
      "text/plain": [
       "<Figure size 432x288 with 0 Axes>"
      ]
     },
     "metadata": {},
     "output_type": "display_data"
    },
    {
     "data": {
      "text/plain": [
       "<Figure size 432x288 with 0 Axes>"
      ]
     },
     "metadata": {},
     "output_type": "display_data"
    },
    {
     "data": {
      "text/plain": [
       "<Figure size 432x288 with 0 Axes>"
      ]
     },
     "metadata": {},
     "output_type": "display_data"
    },
    {
     "data": {
      "text/plain": [
       "<Figure size 432x288 with 0 Axes>"
      ]
     },
     "metadata": {},
     "output_type": "display_data"
    },
    {
     "data": {
      "text/plain": [
       "<Figure size 432x288 with 0 Axes>"
      ]
     },
     "metadata": {},
     "output_type": "display_data"
    },
    {
     "data": {
      "text/plain": [
       "<Figure size 432x288 with 0 Axes>"
      ]
     },
     "metadata": {},
     "output_type": "display_data"
    },
    {
     "data": {
      "text/plain": [
       "<Figure size 432x288 with 0 Axes>"
      ]
     },
     "metadata": {},
     "output_type": "display_data"
    },
    {
     "data": {
      "text/plain": [
       "<Figure size 432x288 with 0 Axes>"
      ]
     },
     "metadata": {},
     "output_type": "display_data"
    },
    {
     "data": {
      "text/plain": [
       "<Figure size 432x288 with 0 Axes>"
      ]
     },
     "metadata": {},
     "output_type": "display_data"
    },
    {
     "data": {
      "text/plain": [
       "<Figure size 432x288 with 0 Axes>"
      ]
     },
     "metadata": {},
     "output_type": "display_data"
    },
    {
     "data": {
      "text/plain": [
       "<Figure size 432x288 with 0 Axes>"
      ]
     },
     "metadata": {},
     "output_type": "display_data"
    },
    {
     "data": {
      "text/plain": [
       "<Figure size 432x288 with 0 Axes>"
      ]
     },
     "metadata": {},
     "output_type": "display_data"
    },
    {
     "data": {
      "text/plain": [
       "<Figure size 432x288 with 0 Axes>"
      ]
     },
     "metadata": {},
     "output_type": "display_data"
    },
    {
     "data": {
      "text/plain": [
       "<Figure size 432x288 with 0 Axes>"
      ]
     },
     "metadata": {},
     "output_type": "display_data"
    },
    {
     "data": {
      "text/plain": [
       "<Figure size 432x288 with 0 Axes>"
      ]
     },
     "metadata": {},
     "output_type": "display_data"
    },
    {
     "data": {
      "text/plain": [
       "<Figure size 432x288 with 0 Axes>"
      ]
     },
     "metadata": {},
     "output_type": "display_data"
    },
    {
     "data": {
      "text/plain": [
       "<Figure size 432x288 with 0 Axes>"
      ]
     },
     "metadata": {},
     "output_type": "display_data"
    },
    {
     "data": {
      "text/plain": [
       "<Figure size 432x288 with 0 Axes>"
      ]
     },
     "metadata": {},
     "output_type": "display_data"
    },
    {
     "data": {
      "text/plain": [
       "<Figure size 432x288 with 0 Axes>"
      ]
     },
     "metadata": {},
     "output_type": "display_data"
    }
   ],
   "source": [
    "f_dim = 128\n",
    "train_img_dir = './train_images'\n",
    "test_img_dir = './test_images'\n",
    "if not os.path.exists(train_img_dir):\n",
    "    os.mkdir(train_img_dir)\n",
    "    saveFeatureToImage(trainPath, train_img_dir, f_dim)\n",
    "if not os.path.exists(test_img_dir):\n",
    "    os.mkdir(test_img_dir)\n",
    "    saveFeatureToImage(testPath, test_img_dir, train_data.shape[1])"
   ]
  },
  {
   "cell_type": "code",
   "execution_count": 10,
   "metadata": {
    "execution": {
     "iopub.execute_input": "2021-01-21T23:19:50.807915Z",
     "iopub.status.busy": "2021-01-21T23:19:50.807157Z",
     "iopub.status.idle": "2021-01-21T23:19:50.810067Z",
     "shell.execute_reply": "2021-01-21T23:19:50.809639Z"
    },
    "papermill": {
     "duration": 0.174852,
     "end_time": "2021-01-21T23:19:50.810160",
     "exception": false,
     "start_time": "2021-01-21T23:19:50.635308",
     "status": "completed"
    },
    "tags": []
   },
   "outputs": [],
   "source": [
    "def scanImgFeatures(path):\n",
    "    features = []\n",
    "    files = sorted(os.listdir(path))\n",
    "    for x in files:\n",
    "        fp = os.path.join(path, x)\n",
    "        img = imread(fp)[:,:,:3]/255.0\n",
    "        features.append(img)\n",
    "    return np.array(features), files"
   ]
  },
  {
   "cell_type": "code",
   "execution_count": 11,
   "metadata": {
    "execution": {
     "iopub.execute_input": "2021-01-21T23:19:51.171707Z",
     "iopub.status.busy": "2021-01-21T23:19:51.171136Z",
     "iopub.status.idle": "2021-01-21T23:19:51.935033Z",
     "shell.execute_reply": "2021-01-21T23:19:51.935442Z"
    },
    "papermill": {
     "duration": 0.933792,
     "end_time": "2021-01-21T23:19:51.935600",
     "exception": false,
     "start_time": "2021-01-21T23:19:51.001808",
     "status": "completed"
    },
    "tags": []
   },
   "outputs": [
    {
     "data": {
      "image/png": "[encoded data removed]",
      "text/plain": [
       "<Figure size 432x288 with 1 Axes>"
      ]
     },
     "metadata": {
      "needs_background": "light"
     },
     "output_type": "display_data"
    }
   ],
   "source": [
    "if os.path.exists(train_img_dir):\n",
    "    train_data_img, train_files_img = scanImgFeatures(train_img_dir)\n",
    "if os.path.exists(test_img_dir):\n",
    "    test_data_img, test_files_img = scanImgFeatures(test_img_dir)\n",
    "    plt.imshow(test_data_img[0])\n",
    "    plt.show()"
   ]
  },
  {
   "cell_type": "code",
   "execution_count": 12,
   "metadata": {
    "execution": {
     "iopub.execute_input": "2021-01-21T23:19:52.271380Z",
     "iopub.status.busy": "2021-01-21T23:19:52.270651Z",
     "iopub.status.idle": "2021-01-21T23:19:52.273111Z",
     "shell.execute_reply": "2021-01-21T23:19:52.273610Z"
    },
    "papermill": {
     "duration": 0.172814,
     "end_time": "2021-01-21T23:19:52.273718",
     "exception": false,
     "start_time": "2021-01-21T23:19:52.100904",
     "status": "completed"
    },
    "tags": []
   },
   "outputs": [],
   "source": [
    "def getPathLabels(p):\n",
    "    return [df_base[df_base['Filename'] == x].iloc[0,1] for x in p]"
   ]
  },
  {
   "cell_type": "code",
   "execution_count": 13,
   "metadata": {
    "execution": {
     "iopub.execute_input": "2021-01-21T23:19:52.723700Z",
     "iopub.status.busy": "2021-01-21T23:19:52.722936Z",
     "iopub.status.idle": "2021-01-21T23:19:52.725387Z",
     "shell.execute_reply": "2021-01-21T23:19:52.725779Z"
    },
    "papermill": {
     "duration": 0.286756,
     "end_time": "2021-01-21T23:19:52.725895",
     "exception": false,
     "start_time": "2021-01-21T23:19:52.439139",
     "status": "completed"
    },
    "tags": []
   },
   "outputs": [],
   "source": [
    "train_labels = getPathLabels(train_files)"
   ]
  },
  {
   "cell_type": "markdown",
   "metadata": {
    "papermill": {
     "duration": 0.166261,
     "end_time": "2021-01-21T23:19:53.058916",
     "exception": false,
     "start_time": "2021-01-21T23:19:52.892655",
     "status": "completed"
    },
    "tags": []
   },
   "source": [
    "# Data Visualization"
   ]
  },
  {
   "cell_type": "code",
   "execution_count": 14,
   "metadata": {
    "execution": {
     "iopub.execute_input": "2021-01-21T23:19:53.395522Z",
     "iopub.status.busy": "2021-01-21T23:19:53.394876Z",
     "iopub.status.idle": "2021-01-21T23:19:53.402906Z",
     "shell.execute_reply": "2021-01-21T23:19:53.402495Z"
    },
    "papermill": {
     "duration": 0.176936,
     "end_time": "2021-01-21T23:19:53.403014",
     "exception": false,
     "start_time": "2021-01-21T23:19:53.226078",
     "status": "completed"
    },
    "tags": []
   },
   "outputs": [],
   "source": [
    "audio_fp = '/kaggle/input/audio-speech-sentiment/TRAIN/1.wav'\n",
    "audio_data, sr = loadAudio(audio_fp)\n",
    "audio_data, _ = librosa.effects.trim(audio_data)"
   ]
  },
  {
   "cell_type": "code",
   "execution_count": 15,
   "metadata": {
    "execution": {
     "iopub.execute_input": "2021-01-21T23:19:53.739571Z",
     "iopub.status.busy": "2021-01-21T23:19:53.739020Z",
     "iopub.status.idle": "2021-01-21T23:19:53.758731Z",
     "shell.execute_reply": "2021-01-21T23:19:53.759153Z"
    },
    "papermill": {
     "duration": 0.18936,
     "end_time": "2021-01-21T23:19:53.759265",
     "exception": false,
     "start_time": "2021-01-21T23:19:53.569905",
     "status": "completed"
    },
    "tags": []
   },
   "outputs": [
    {
     "data": {
      "text/html": [
       "\n",
       "                <audio  controls=\"controls\" >\n",
       "                    <source src=\"data:audio/wav;base64,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\" type=\"audio/wav\" />\n",
       "                    Your browser does not support the audio element.\n",
       "                </audio>\n",
       "              "
      ],
      "text/plain": [
       "<IPython.lib.display.Audio object>"
      ]
     },
     "execution_count": 15,
     "metadata": {},
     "output_type": "execute_result"
    }
   ],
   "source": [
    "# play sample file\n",
    "IPython.display.Audio(audio_data, rate=sr)"
   ]
  },
  {
   "cell_type": "code",
   "execution_count": 16,
   "metadata": {
    "execution": {
     "iopub.execute_input": "2021-01-21T23:19:54.105813Z",
     "iopub.status.busy": "2021-01-21T23:19:54.104905Z",
     "iopub.status.idle": "2021-01-21T23:19:54.333601Z",
     "shell.execute_reply": "2021-01-21T23:19:54.334340Z"
    },
    "papermill": {
     "duration": 0.404864,
     "end_time": "2021-01-21T23:19:54.334498",
     "exception": false,
     "start_time": "2021-01-21T23:19:53.929634",
     "status": "completed"
    },
    "tags": []
   },
   "outputs": [
    {
     "data": {
      "image/png": "[encoded data removed]",
      "text/plain": [
       "<Figure size 1080x360 with 1 Axes>"
      ]
     },
     "metadata": {
      "needs_background": "light"
     },
     "output_type": "display_data"
    }
   ],
   "source": [
    "# plot sample file\n",
    "plt.figure(figsize=(15,5))\n",
    "lplt.waveplot(audio_data)\n",
    "plt.show()"
   ]
  },
  {
   "cell_type": "code",
   "execution_count": 17,
   "metadata": {
    "execution": {
     "iopub.execute_input": "2021-01-21T23:19:55.063358Z",
     "iopub.status.busy": "2021-01-21T23:19:55.062488Z",
     "iopub.status.idle": "2021-01-21T23:19:55.914028Z",
     "shell.execute_reply": "2021-01-21T23:19:55.913513Z"
    },
    "papermill": {
     "duration": 1.218974,
     "end_time": "2021-01-21T23:19:55.914150",
     "exception": false,
     "start_time": "2021-01-21T23:19:54.695176",
     "status": "completed"
    },
    "tags": []
   },
   "outputs": [
    {
     "data": {
      "image/png": "[encoded data removed]",
      "text/plain": [
       "<Figure size 864x288 with 2 Axes>"
      ]
     },
     "metadata": {
      "needs_background": "light"
     },
     "output_type": "display_data"
    },
    {
     "data": {
      "image/png": "[encoded data removed]",
      "text/plain": [
       "<Figure size 864x288 with 2 Axes>"
      ]
     },
     "metadata": {
      "needs_background": "light"
     },
     "output_type": "display_data"
    }
   ],
   "source": [
    "# Default FFT window size\n",
    "n_fft = 2048 # window size\n",
    "hop_length = 512 # window hop length for STFT\n",
    "\n",
    "stft = librosa.stft(audio_data, n_fft=n_fft, hop_length=hop_length)\n",
    "stft_db = librosa.amplitude_to_db(stft, ref=np.max)\n",
    "\n",
    "plt.figure(figsize=(12,4))\n",
    "lplt.specshow(stft, sr=sr, x_axis='time', y_axis='hz')\n",
    "plt.colorbar()\n",
    "plt.title(\"Spectrogram with amplitude\")\n",
    "plt.show()\n",
    "\n",
    "plt.figure(figsize=(12,4))\n",
    "lplt.specshow(stft_db, sr=sr, x_axis='time', y_axis='log', cmap='cool')\n",
    "plt.colorbar()\n",
    "plt.title(\"Spectrogram with decibel log\")\n",
    "plt.show()"
   ]
  },
  {
   "cell_type": "code",
   "execution_count": 18,
   "metadata": {
    "execution": {
     "iopub.execute_input": "2021-01-21T23:19:56.280809Z",
     "iopub.status.busy": "2021-01-21T23:19:56.280220Z",
     "iopub.status.idle": "2021-01-21T23:19:56.797734Z",
     "shell.execute_reply": "2021-01-21T23:19:56.797128Z"
    },
    "papermill": {
     "duration": 0.700532,
     "end_time": "2021-01-21T23:19:56.797828",
     "exception": false,
     "start_time": "2021-01-21T23:19:56.097296",
     "status": "completed"
    },
    "tags": []
   },
   "outputs": [
    {
     "data": {
      "image/png": "[encoded data removed]",
      "text/plain": [
       "<Figure size 864x288 with 2 Axes>"
      ]
     },
     "metadata": {
      "needs_background": "light"
     },
     "output_type": "display_data"
    },
    {
     "data": {
      "image/png": "[encoded data removed]",
      "text/plain": [
       "<Figure size 864x288 with 2 Axes>"
      ]
     },
     "metadata": {
      "needs_background": "light"
     },
     "output_type": "display_data"
    }
   ],
   "source": [
    "melspec = librosa.feature.melspectrogram(audio_data, sr=sample_rate)\n",
    "melspec_db = librosa.amplitude_to_db(melspec, ref=np.max)\n",
    "\n",
    "plt.figure(figsize=(12,4))\n",
    "lplt.specshow(melspec, sr=sr, x_axis='time', y_axis='hz')\n",
    "plt.colorbar()\n",
    "plt.title(\"Spectrogram with amplitude\")\n",
    "plt.show()\n",
    "\n",
    "plt.figure(figsize=(12,4))\n",
    "lplt.specshow(melspec_db, sr=sr, x_axis='time', y_axis='log', cmap='cool')\n",
    "plt.colorbar()\n",
    "plt.title(\"Spectrogram with decibel log\")\n",
    "plt.show()"
   ]
  },
  {
   "cell_type": "markdown",
   "metadata": {
    "papermill": {
     "duration": 0.182551,
     "end_time": "2021-01-21T23:19:57.167738",
     "exception": false,
     "start_time": "2021-01-21T23:19:56.985187",
     "status": "completed"
    },
    "tags": []
   },
   "source": [
    "# Data Preparation\n"
   ]
  },
  {
   "cell_type": "markdown",
   "metadata": {
    "papermill": {
     "duration": 0.181056,
     "end_time": "2021-01-21T23:19:57.529645",
     "exception": false,
     "start_time": "2021-01-21T23:19:57.348589",
     "status": "completed"
    },
    "tags": []
   },
   "source": [
    "## Encode Genre Label"
   ]
  },
  {
   "cell_type": "code",
   "execution_count": 19,
   "metadata": {
    "execution": {
     "iopub.execute_input": "2021-01-21T23:19:57.897715Z",
     "iopub.status.busy": "2021-01-21T23:19:57.897126Z",
     "iopub.status.idle": "2021-01-21T23:19:57.901221Z",
     "shell.execute_reply": "2021-01-21T23:19:57.901792Z"
    },
    "papermill": {
     "duration": 0.191857,
     "end_time": "2021-01-21T23:19:57.901914",
     "exception": false,
     "start_time": "2021-01-21T23:19:57.710057",
     "status": "completed"
    },
    "tags": []
   },
   "outputs": [
    {
     "name": "stdout",
     "output_type": "stream",
     "text": [
      "{'Negative': 0, 'Neutral': 1, 'Positive': 2}\n",
      "{0: 'Negative', 1: 'Neutral', 2: 'Positive'}\n"
     ]
    }
   ],
   "source": [
    "# map labels to index\n",
    "label_index = dict()\n",
    "index_label = dict()\n",
    "for i, x in enumerate(df_base['Class'].unique()):\n",
    "    label_index[x] = i\n",
    "    index_label[i] = x\n",
    "print(label_index)\n",
    "print(index_label)"
   ]
  },
  {
   "cell_type": "code",
   "execution_count": 20,
   "metadata": {
    "execution": {
     "iopub.execute_input": "2021-01-21T23:19:58.274856Z",
     "iopub.status.busy": "2021-01-21T23:19:58.274159Z",
     "iopub.status.idle": "2021-01-21T23:19:58.278105Z",
     "shell.execute_reply": "2021-01-21T23:19:58.277675Z"
    },
    "papermill": {
     "duration": 0.189908,
     "end_time": "2021-01-21T23:19:58.278197",
     "exception": false,
     "start_time": "2021-01-21T23:19:58.088289",
     "status": "completed"
    },
    "tags": []
   },
   "outputs": [
    {
     "data": {
      "text/plain": [
       "[2, 2, 2, 1, 1, 1, 2, 1, 1, 1, 1, 1, 0, 0, 0, 0, 2, 0, 0, 0, 0, 2, 2, 2, 2]"
      ]
     },
     "execution_count": 20,
     "metadata": {},
     "output_type": "execute_result"
    }
   ],
   "source": [
    "# update labels in df to index\n",
    "train_labels_idx = [label_index[l] for l in train_labels]\n",
    "train_labels_idx[::10]"
   ]
  },
  {
   "cell_type": "markdown",
   "metadata": {
    "papermill": {
     "duration": 0.176414,
     "end_time": "2021-01-21T23:19:58.635338",
     "exception": false,
     "start_time": "2021-01-21T23:19:58.458924",
     "status": "completed"
    },
    "tags": []
   },
   "source": [
    "# Split Train & Test Sets"
   ]
  },
  {
   "cell_type": "code",
   "execution_count": 21,
   "metadata": {
    "execution": {
     "iopub.execute_input": "2021-01-21T23:19:58.992518Z",
     "iopub.status.busy": "2021-01-21T23:19:58.991902Z",
     "iopub.status.idle": "2021-01-21T23:19:58.996066Z",
     "shell.execute_reply": "2021-01-21T23:19:58.995589Z"
    },
    "papermill": {
     "duration": 0.185675,
     "end_time": "2021-01-21T23:19:58.996157",
     "exception": false,
     "start_time": "2021-01-21T23:19:58.810482",
     "status": "completed"
    },
    "tags": []
   },
   "outputs": [],
   "source": [
    "# shuffle samples\n",
    "df_shuffle = df_base.sample(frac=1, random_state=seed).reset_index(drop=True)"
   ]
  },
  {
   "cell_type": "code",
   "execution_count": 22,
   "metadata": {
    "execution": {
     "iopub.execute_input": "2021-01-21T23:19:59.365374Z",
     "iopub.status.busy": "2021-01-21T23:19:59.364414Z",
     "iopub.status.idle": "2021-01-21T23:19:59.369862Z",
     "shell.execute_reply": "2021-01-21T23:19:59.369358Z"
    },
    "papermill": {
     "duration": 0.198244,
     "end_time": "2021-01-21T23:19:59.369986",
     "exception": false,
     "start_time": "2021-01-21T23:19:59.171742",
     "status": "completed"
    },
    "tags": []
   },
   "outputs": [],
   "source": [
    "# remove irrelevant columns\n",
    "df_shuffle.drop(['Filename'], axis=1, inplace=True)\n",
    "df_y = df_shuffle.pop('Class')\n",
    "\n",
    "# split into train dev and test\n",
    "y_train, y_test = skms.train_test_split(df_y, train_size=0.8, random_state=seed, stratify=df_y)"
   ]
  },
  {
   "cell_type": "code",
   "execution_count": 23,
   "metadata": {
    "execution": {
     "iopub.execute_input": "2021-01-21T23:19:59.725685Z",
     "iopub.status.busy": "2021-01-21T23:19:59.725097Z",
     "iopub.status.idle": "2021-01-21T23:19:59.731458Z",
     "shell.execute_reply": "2021-01-21T23:19:59.731972Z"
    },
    "papermill": {
     "duration": 0.186997,
     "end_time": "2021-01-21T23:19:59.732112",
     "exception": false,
     "start_time": "2021-01-21T23:19:59.545115",
     "status": "completed"
    },
    "tags": []
   },
   "outputs": [
    {
     "name": "stdout",
     "output_type": "stream",
     "text": [
      "Train set has 200 records out of 250 which is 80%\n",
      "Test set has 50 records out of 250 which is 20%\n"
     ]
    }
   ],
   "source": [
    "print(f\"Train set has {y_train.shape[0]} records out of {len(df_shuffle)} which is {round(y_train.shape[0]/len(df_shuffle)*100)}%\")\n",
    "print(f\"Test set has {y_test.shape[0]} records out of {len(df_shuffle)} which is {round(y_test.shape[0]/len(df_shuffle)*100)}%\")"
   ]
  },
  {
   "cell_type": "code",
   "execution_count": 24,
   "metadata": {
    "execution": {
     "iopub.execute_input": "2021-01-21T23:20:00.132196Z",
     "iopub.status.busy": "2021-01-21T23:20:00.130465Z",
     "iopub.status.idle": "2021-01-21T23:20:00.135129Z",
     "shell.execute_reply": "2021-01-21T23:20:00.134359Z"
    },
    "papermill": {
     "duration": 0.198488,
     "end_time": "2021-01-21T23:20:00.135271",
     "exception": false,
     "start_time": "2021-01-21T23:19:59.936783",
     "status": "completed"
    },
    "tags": []
   },
   "outputs": [
    {
     "name": "stdout",
     "output_type": "stream",
     "text": [
      "Negative    70\n",
      "Positive    65\n",
      "Neutral     65\n",
      "Name: Class, dtype: int64\n",
      "Positive    17\n",
      "Negative    17\n",
      "Neutral     16\n",
      "Name: Class, dtype: int64\n"
     ]
    }
   ],
   "source": [
    "# stratified split check\n",
    "print(y_train.value_counts())\n",
    "print(y_test.value_counts())"
   ]
  },
  {
   "cell_type": "code",
   "execution_count": 25,
   "metadata": {
    "execution": {
     "iopub.execute_input": "2021-01-21T23:20:00.495620Z",
     "iopub.status.busy": "2021-01-21T23:20:00.494445Z",
     "iopub.status.idle": "2021-01-21T23:20:00.509024Z",
     "shell.execute_reply": "2021-01-21T23:20:00.509460Z"
    },
    "papermill": {
     "duration": 0.19726,
     "end_time": "2021-01-21T23:20:00.509578",
     "exception": false,
     "start_time": "2021-01-21T23:20:00.312318",
     "status": "completed"
    },
    "tags": []
   },
   "outputs": [
    {
     "data": {
      "text/plain": [
       "(50, 128, 128)"
      ]
     },
     "execution_count": 25,
     "metadata": {},
     "output_type": "execute_result"
    }
   ],
   "source": [
    "# divide train_data into X_train and X_test\n",
    "X_train = train_data[y_train.index.tolist(), :, :]\n",
    "X_test = train_data[y_test.index.tolist(), :, :]\n",
    "X_test.shape"
   ]
  },
  {
   "cell_type": "code",
   "execution_count": 26,
   "metadata": {
    "execution": {
     "iopub.execute_input": "2021-01-21T23:20:00.891339Z",
     "iopub.status.busy": "2021-01-21T23:20:00.890204Z",
     "iopub.status.idle": "2021-01-21T23:20:00.938900Z",
     "shell.execute_reply": "2021-01-21T23:20:00.938322Z"
    },
    "papermill": {
     "duration": 0.252819,
     "end_time": "2021-01-21T23:20:00.939051",
     "exception": false,
     "start_time": "2021-01-21T23:20:00.686232",
     "status": "completed"
    },
    "tags": []
   },
   "outputs": [
    {
     "data": {
      "text/plain": [
       "(50, 128, 128, 3)"
      ]
     },
     "execution_count": 26,
     "metadata": {},
     "output_type": "execute_result"
    }
   ],
   "source": [
    "# divide train_data_img into X_train_img and X_test_img\n",
    "X_train_img = train_data_img[y_train.index.tolist(), :, :]\n",
    "X_test_img = train_data_img[y_test.index.tolist(), :, :]\n",
    "X_test_img.shape"
   ]
  },
  {
   "cell_type": "code",
   "execution_count": 27,
   "metadata": {
    "execution": {
     "iopub.execute_input": "2021-01-21T23:20:01.614755Z",
     "iopub.status.busy": "2021-01-21T23:20:01.613934Z",
     "iopub.status.idle": "2021-01-21T23:20:01.618927Z",
     "shell.execute_reply": "2021-01-21T23:20:01.619521Z"
    },
    "papermill": {
     "duration": 0.339242,
     "end_time": "2021-01-21T23:20:01.619675",
     "exception": false,
     "start_time": "2021-01-21T23:20:01.280433",
     "status": "completed"
    },
    "tags": []
   },
   "outputs": [
    {
     "data": {
      "text/plain": [
       "array([1, 0, 0, 0, 0, 1, 2, 1, 1, 0, 2, 0, 1, 0, 0, 1, 1, 2, 2, 1])"
      ]
     },
     "execution_count": 27,
     "metadata": {},
     "output_type": "execute_result"
    }
   ],
   "source": [
    "y_train = np.array([train_labels_idx[x] for x in y_train.index.tolist()])\n",
    "y_test = np.array([train_labels_idx[x] for x in y_test.index.tolist()])\n",
    "y_train[::10]"
   ]
  },
  {
   "cell_type": "markdown",
   "metadata": {
    "papermill": {
     "duration": 0.231174,
     "end_time": "2021-01-21T23:20:02.165814",
     "exception": false,
     "start_time": "2021-01-21T23:20:01.934640",
     "status": "completed"
    },
    "tags": []
   },
   "source": [
    "## Scale the Features"
   ]
  },
  {
   "cell_type": "code",
   "execution_count": 28,
   "metadata": {
    "execution": {
     "iopub.execute_input": "2021-01-21T23:20:02.534742Z",
     "iopub.status.busy": "2021-01-21T23:20:02.533751Z",
     "iopub.status.idle": "2021-01-21T23:20:02.579700Z",
     "shell.execute_reply": "2021-01-21T23:20:02.580321Z"
    },
    "papermill": {
     "duration": 0.234984,
     "end_time": "2021-01-21T23:20:02.580495",
     "exception": false,
     "start_time": "2021-01-21T23:20:02.345511",
     "status": "completed"
    },
    "tags": []
   },
   "outputs": [
    {
     "name": "stdout",
     "output_type": "stream",
     "text": [
      "(200, 128, 128)\n"
     ]
    }
   ],
   "source": [
    "# scale features\n",
    "scaler = skp.MinMaxScaler()\n",
    "X_train = scaler.fit_transform(X_train.reshape(-1, X_train.shape[-1])).reshape(X_train.shape)\n",
    "X_test = scaler.transform(X_test.reshape(-1, X_test.shape[-1])).reshape(X_test.shape)\n",
    "test_data = scaler.transform(test_data.reshape(-1, test_data.shape[-1])).reshape(test_data.shape)\n",
    "print(X_train.shape)"
   ]
  },
  {
   "cell_type": "markdown",
   "metadata": {
    "papermill": {
     "duration": 0.184231,
     "end_time": "2021-01-21T23:20:02.946537",
     "exception": false,
     "start_time": "2021-01-21T23:20:02.762306",
     "status": "completed"
    },
    "tags": []
   },
   "source": [
    "# Model Building"
   ]
  },
  {
   "cell_type": "code",
   "execution_count": 29,
   "metadata": {
    "execution": {
     "iopub.execute_input": "2021-01-21T23:20:03.313638Z",
     "iopub.status.busy": "2021-01-21T23:20:03.313077Z",
     "iopub.status.idle": "2021-01-21T23:20:08.225149Z",
     "shell.execute_reply": "2021-01-21T23:20:08.224255Z"
    },
    "papermill": {
     "duration": 5.097824,
     "end_time": "2021-01-21T23:20:08.225308",
     "exception": false,
     "start_time": "2021-01-21T23:20:03.127484",
     "status": "completed"
    },
    "tags": []
   },
   "outputs": [
    {
     "name": "stdout",
     "output_type": "stream",
     "text": [
      "TF version:- 2.3.1\n"
     ]
    }
   ],
   "source": [
    "import tensorflow as tf\n",
    "print(\"TF version:-\", tf.__version__)\n",
    "import keras as k\n",
    "from keras import backend as K\n",
    "tf.random.set_seed(seed)"
   ]
  },
  {
   "cell_type": "code",
   "execution_count": 30,
   "metadata": {
    "execution": {
     "iopub.execute_input": "2021-01-21T23:20:08.603932Z",
     "iopub.status.busy": "2021-01-21T23:20:08.603341Z",
     "iopub.status.idle": "2021-01-21T23:20:08.606603Z",
     "shell.execute_reply": "2021-01-21T23:20:08.606153Z"
    },
    "papermill": {
     "duration": 0.198205,
     "end_time": "2021-01-21T23:20:08.606701",
     "exception": false,
     "start_time": "2021-01-21T23:20:08.408496",
     "status": "completed"
    },
    "scrolled": true,
    "tags": []
   },
   "outputs": [],
   "source": [
    "bestModelPath = './best_model.hdf5'\n",
    "ACCURACY_THRESHOLD = 0.98\n",
    "\n",
    "class myCallback(k.callbacks.Callback):\n",
    "    def on_epoch_end(self, epoch, logs={}):\n",
    "        if(logs.get('val_accuracy') > ACCURACY_THRESHOLD):\n",
    "            print(\"\\n\\nStopping training as we have reached %2.2f%% accuracy!\" %(ACCURACY_THRESHOLD*100))   \n",
    "            self.model.stop_training = True\n",
    "\n",
    "acc_callback = myCallback()\n",
    "\n",
    "\n",
    "def trainModel(model, epochs, optimizer, vb=1):\n",
    "    cbs = [#k.callbacks.ReduceLROnPlateau(patience=5, verbose=1), \n",
    "           k.callbacks.ModelCheckpoint(filepath=bestModelPath, monitor='val_loss', verbose=1, save_best_only=True)]\n",
    "    batch_size = 64\n",
    "    callback = myCallback()\n",
    "    model.compile(optimizer=optimizer,\n",
    "                  loss='sparse_categorical_crossentropy',\n",
    "                  metrics='accuracy'\n",
    "    )\n",
    "    return model.fit(X_train, y_train, \n",
    "#                      validation_data=(X_test, y_test), \n",
    "                     epochs=epochs, verbose=vb,\n",
    "                     validation_split=0.2,\n",
    "                     batch_size=batch_size, callbacks=cbs)\n",
    "\n",
    "def plotHistory(history):\n",
    "    print(\"Max. Validation Accuracy\",max(history.history[\"val_accuracy\"]))\n",
    "    pd.DataFrame(history.history).plot(figsize=(12,6))\n",
    "    plt.show()"
   ]
  },
  {
   "cell_type": "code",
   "execution_count": 31,
   "metadata": {
    "execution": {
     "iopub.execute_input": "2021-01-21T23:20:08.982406Z",
     "iopub.status.busy": "2021-01-21T23:20:08.981855Z",
     "iopub.status.idle": "2021-01-21T23:20:18.916002Z",
     "shell.execute_reply": "2021-01-21T23:20:18.916617Z"
    },
    "papermill": {
     "duration": 10.12804,
     "end_time": "2021-01-21T23:20:18.916784",
     "exception": false,
     "start_time": "2021-01-21T23:20:08.788744",
     "status": "completed"
    },
    "scrolled": false,
    "tags": []
   },
   "outputs": [
    {
     "name": "stdout",
     "output_type": "stream",
     "text": [
      "Model: \"sequential\"\n",
      "_________________________________________________________________\n",
      "Layer (type)                 Output Shape              Param #   \n",
      "=================================================================\n",
      "conv1d (Conv1D)              (None, 128, 256)          262400    \n",
      "_________________________________________________________________\n",
      "batch_normalization (BatchNo (None, 128, 256)          1024      \n",
      "_________________________________________________________________\n",
      "dropout (Dropout)            (None, 128, 256)          0         \n",
      "_________________________________________________________________\n",
      "max_pooling1d (MaxPooling1D) (None, 16, 256)           0         \n",
      "_________________________________________________________________\n",
      "conv1d_1 (Conv1D)            (None, 16, 128)           262272    \n",
      "_________________________________________________________________\n",
      "batch_normalization_1 (Batch (None, 16, 128)           512       \n",
      "_________________________________________________________________\n",
      "dropout_1 (Dropout)          (None, 16, 128)           0         \n",
      "_________________________________________________________________\n",
      "max_pooling1d_1 (MaxPooling1 (None, 3, 128)            0         \n",
      "_________________________________________________________________\n",
      "conv1d_2 (Conv1D)            (None, 3, 64)             65600     \n",
      "_________________________________________________________________\n",
      "batch_normalization_2 (Batch (None, 3, 64)             256       \n",
      "_________________________________________________________________\n",
      "flatten (Flatten)            (None, 192)               0         \n",
      "_________________________________________________________________\n",
      "dense (Dense)                (None, 3)                 579       \n",
      "=================================================================\n",
      "Total params: 592,643\n",
      "Trainable params: 591,747\n",
      "Non-trainable params: 896\n",
      "_________________________________________________________________\n",
      "None\n",
      "\n",
      "Epoch 00001: val_loss improved from inf to 1.09099, saving model to ./best_model.hdf5\n",
      "\n",
      "Epoch 00002: val_loss improved from 1.09099 to 1.06857, saving model to ./best_model.hdf5\n",
      "\n",
      "Epoch 00003: val_loss did not improve from 1.06857\n",
      "\n",
      "Epoch 00004: val_loss did not improve from 1.06857\n",
      "\n",
      "Epoch 00005: val_loss improved from 1.06857 to 1.06497, saving model to ./best_model.hdf5\n",
      "\n",
      "Epoch 00006: val_loss improved from 1.06497 to 1.00612, saving model to ./best_model.hdf5\n",
      "\n",
      "Epoch 00007: val_loss improved from 1.00612 to 0.95455, saving model to ./best_model.hdf5\n",
      "\n",
      "Epoch 00008: val_loss improved from 0.95455 to 0.89779, saving model to ./best_model.hdf5\n",
      "\n",
      "Epoch 00009: val_loss improved from 0.89779 to 0.85915, saving model to ./best_model.hdf5\n",
      "\n",
      "Epoch 00010: val_loss improved from 0.85915 to 0.82703, saving model to ./best_model.hdf5\n",
      "\n",
      "Epoch 00011: val_loss improved from 0.82703 to 0.79993, saving model to ./best_model.hdf5\n",
      "\n",
      "Epoch 00012: val_loss improved from 0.79993 to 0.78458, saving model to ./best_model.hdf5\n",
      "\n",
      "Epoch 00013: val_loss improved from 0.78458 to 0.77251, saving model to ./best_model.hdf5\n",
      "\n",
      "Epoch 00014: val_loss did not improve from 0.77251\n",
      "\n",
      "Epoch 00015: val_loss did not improve from 0.77251\n",
      "\n",
      "Epoch 00016: val_loss did not improve from 0.77251\n",
      "\n",
      "Epoch 00017: val_loss did not improve from 0.77251\n",
      "\n",
      "Epoch 00018: val_loss did not improve from 0.77251\n",
      "\n",
      "Epoch 00019: val_loss did not improve from 0.77251\n",
      "\n",
      "Epoch 00020: val_loss did not improve from 0.77251\n",
      "\n",
      "Epoch 00021: val_loss did not improve from 0.77251\n",
      "\n",
      "Epoch 00022: val_loss did not improve from 0.77251\n",
      "\n",
      "Epoch 00023: val_loss did not improve from 0.77251\n",
      "\n",
      "Epoch 00024: val_loss did not improve from 0.77251\n",
      "\n",
      "Epoch 00025: val_loss did not improve from 0.77251\n",
      "\n",
      "Epoch 00026: val_loss did not improve from 0.77251\n",
      "\n",
      "Epoch 00027: val_loss did not improve from 0.77251\n",
      "\n",
      "Epoch 00028: val_loss did not improve from 0.77251\n",
      "\n",
      "Epoch 00029: val_loss did not improve from 0.77251\n",
      "\n",
      "Epoch 00030: val_loss did not improve from 0.77251\n",
      "\n",
      "Epoch 00031: val_loss did not improve from 0.77251\n",
      "\n",
      "Epoch 00032: val_loss did not improve from 0.77251\n",
      "\n",
      "Epoch 00033: val_loss did not improve from 0.77251\n",
      "\n",
      "Epoch 00034: val_loss did not improve from 0.77251\n",
      "\n",
      "Epoch 00035: val_loss did not improve from 0.77251\n",
      "\n",
      "Epoch 00036: val_loss did not improve from 0.77251\n",
      "\n",
      "Epoch 00037: val_loss did not improve from 0.77251\n",
      "\n",
      "Epoch 00038: val_loss did not improve from 0.77251\n",
      "\n",
      "Epoch 00039: val_loss did not improve from 0.77251\n",
      "\n",
      "Epoch 00040: val_loss did not improve from 0.77251\n",
      "\n",
      "Epoch 00041: val_loss did not improve from 0.77251\n",
      "\n",
      "Epoch 00042: val_loss did not improve from 0.77251\n",
      "\n",
      "Epoch 00043: val_loss did not improve from 0.77251\n",
      "\n",
      "Epoch 00044: val_loss did not improve from 0.77251\n",
      "\n",
      "Epoch 00045: val_loss did not improve from 0.77251\n",
      "\n",
      "Epoch 00046: val_loss did not improve from 0.77251\n",
      "\n",
      "Epoch 00047: val_loss did not improve from 0.77251\n",
      "\n",
      "Epoch 00048: val_loss did not improve from 0.77251\n",
      "\n",
      "Epoch 00049: val_loss did not improve from 0.77251\n",
      "\n",
      "Epoch 00050: val_loss did not improve from 0.77251\n"
     ]
    }
   ],
   "source": [
    "model_1 = k.models.Sequential([\n",
    "    k.layers.Conv1D(256, 8, padding='same', activation='relu', input_shape=(X_train.shape[1], X_train.shape[2])),\n",
    "#     k.layers.Conv1D(256, 8, padding='same', activation='relu'),\n",
    "    k.layers.BatchNormalization(),\n",
    "    k.layers.Dropout(0.2),\n",
    "    k.layers.MaxPooling1D(pool_size=(8)),\n",
    "    k.layers.Conv1D(128, 8, padding='same', activation='relu'),\n",
    "#     k.layers.Conv1D(128, 8, padding='same', activation='relu'),\n",
    "#     k.layers.Conv1D(128, 8, padding='same', activation='relu'),\n",
    "    k.layers.BatchNormalization(),\n",
    "    k.layers.Dropout(0.2),\n",
    "    k.layers.MaxPooling1D(pool_size=(5)),\n",
    "#     k.layers.Conv1D(64, 8, padding='same', activation='relu'),\n",
    "    k.layers.Conv1D(64, 8, padding='same', activation='relu'),\n",
    "    k.layers.BatchNormalization(),\n",
    "    k.layers.Flatten(),\n",
    "#     k.layers.Dense(64, activation='relu'),\n",
    "    k.layers.Dense(len(index_label), activation='softmax'),\n",
    "])\n",
    "print(model_1.summary())\n",
    "model_1_history = trainModel(model=model_1, epochs=50, optimizer='adam', vb=0)"
   ]
  },
  {
   "cell_type": "code",
   "execution_count": 32,
   "metadata": {
    "execution": {
     "iopub.execute_input": "2021-01-21T23:20:19.298518Z",
     "iopub.status.busy": "2021-01-21T23:20:19.297905Z",
     "iopub.status.idle": "2021-01-21T23:20:19.591946Z",
     "shell.execute_reply": "2021-01-21T23:20:19.591050Z"
    },
    "papermill": {
     "duration": 0.490767,
     "end_time": "2021-01-21T23:20:19.592064",
     "exception": false,
     "start_time": "2021-01-21T23:20:19.101297",
     "status": "completed"
    },
    "scrolled": false,
    "tags": []
   },
   "outputs": [
    {
     "name": "stdout",
     "output_type": "stream",
     "text": [
      "Max. Validation Accuracy 0.7250000238418579\n"
     ]
    },
    {
     "data": {
      "image/png": "[encoded data removed]",
      "text/plain": [
       "<Figure size 864x432 with 1 Axes>"
      ]
     },
     "metadata": {
      "needs_background": "light"
     },
     "output_type": "display_data"
    }
   ],
   "source": [
    "plotHistory(model_1_history)"
   ]
  },
  {
   "cell_type": "code",
   "execution_count": 33,
   "metadata": {
    "execution": {
     "iopub.execute_input": "2021-01-21T23:20:19.981318Z",
     "iopub.status.busy": "2021-01-21T23:20:19.980161Z",
     "iopub.status.idle": "2021-01-21T23:20:20.406469Z",
     "shell.execute_reply": "2021-01-21T23:20:20.406026Z"
    },
    "papermill": {
     "duration": 0.625504,
     "end_time": "2021-01-21T23:20:20.406569",
     "exception": false,
     "start_time": "2021-01-21T23:20:19.781065",
     "status": "completed"
    },
    "tags": []
   },
   "outputs": [
    {
     "name": "stdout",
     "output_type": "stream",
     "text": [
      "1/1 [==============================] - 0s 2ms/step - loss: 0.7641 - accuracy: 0.1600\n",
      "The test Loss is : 0.764129638671875\n",
      "The test Accuracy is : 15.999999642372131\n"
     ]
    }
   ],
   "source": [
    "# evaluation\n",
    "test_loss, test_acc  = k.models.load_model(bestModelPath).evaluate(X_test, y_test, batch_size=128)\n",
    "print(\"The test Loss is :\",test_loss)\n",
    "print(\"The test Accuracy is :\",test_acc*100)"
   ]
  },
  {
   "cell_type": "code",
   "execution_count": 34,
   "metadata": {
    "execution": {
     "iopub.execute_input": "2021-01-21T23:20:20.853852Z",
     "iopub.status.busy": "2021-01-21T23:20:20.852917Z",
     "iopub.status.idle": "2021-01-21T23:20:26.522572Z",
     "shell.execute_reply": "2021-01-21T23:20:26.523011Z"
    },
    "papermill": {
     "duration": 5.883287,
     "end_time": "2021-01-21T23:20:26.523146",
     "exception": false,
     "start_time": "2021-01-21T23:20:20.639859",
     "status": "completed"
    },
    "scrolled": false,
    "tags": []
   },
   "outputs": [
    {
     "name": "stdout",
     "output_type": "stream",
     "text": [
      "Model: \"sequential_1\"\n",
      "_________________________________________________________________\n",
      "Layer (type)                 Output Shape              Param #   \n",
      "=================================================================\n",
      "conv1d_3 (Conv1D)            (None, 124, 256)          164096    \n",
      "_________________________________________________________________\n",
      "batch_normalization_3 (Batch (None, 124, 256)          1024      \n",
      "_________________________________________________________________\n",
      "dropout_2 (Dropout)          (None, 124, 256)          0         \n",
      "_________________________________________________________________\n",
      "max_pooling1d_2 (MaxPooling1 (None, 62, 256)           0         \n",
      "_________________________________________________________________\n",
      "conv1d_4 (Conv1D)            (None, 60, 128)           98432     \n",
      "_________________________________________________________________\n",
      "batch_normalization_4 (Batch (None, 60, 128)           512       \n",
      "_________________________________________________________________\n",
      "dropout_3 (Dropout)          (None, 60, 128)           0         \n",
      "_________________________________________________________________\n",
      "max_pooling1d_3 (MaxPooling1 (None, 20, 128)           0         \n",
      "_________________________________________________________________\n",
      "conv1d_5 (Conv1D)            (None, 18, 64)            24640     \n",
      "_________________________________________________________________\n",
      "batch_normalization_5 (Batch (None, 18, 64)            256       \n",
      "_________________________________________________________________\n",
      "flatten_1 (Flatten)          (None, 1152)              0         \n",
      "_________________________________________________________________\n",
      "dense_1 (Dense)              (None, 32)                36896     \n",
      "_________________________________________________________________\n",
      "dense_2 (Dense)              (None, 3)                 99        \n",
      "=================================================================\n",
      "Total params: 325,955\n",
      "Trainable params: 325,059\n",
      "Non-trainable params: 896\n",
      "_________________________________________________________________\n",
      "None\n",
      "\n",
      "Epoch 00001: val_loss improved from inf to 1.06938, saving model to ./best_model.hdf5\n",
      "\n",
      "Epoch 00002: val_loss improved from 1.06938 to 1.05511, saving model to ./best_model.hdf5\n",
      "\n",
      "Epoch 00003: val_loss improved from 1.05511 to 1.02804, saving model to ./best_model.hdf5\n",
      "\n",
      "Epoch 00004: val_loss improved from 1.02804 to 1.01853, saving model to ./best_model.hdf5\n",
      "\n",
      "Epoch 00005: val_loss did not improve from 1.01853\n",
      "\n",
      "Epoch 00006: val_loss did not improve from 1.01853\n",
      "\n",
      "Epoch 00007: val_loss improved from 1.01853 to 1.01217, saving model to ./best_model.hdf5\n",
      "\n",
      "Epoch 00008: val_loss improved from 1.01217 to 1.00502, saving model to ./best_model.hdf5\n",
      "\n",
      "Epoch 00009: val_loss did not improve from 1.00502\n",
      "\n",
      "Epoch 00010: val_loss did not improve from 1.00502\n",
      "\n",
      "Epoch 00011: val_loss did not improve from 1.00502\n",
      "\n",
      "Epoch 00012: val_loss did not improve from 1.00502\n",
      "\n",
      "Epoch 00013: val_loss did not improve from 1.00502\n",
      "\n",
      "Epoch 00014: val_loss did not improve from 1.00502\n",
      "\n",
      "Epoch 00015: val_loss did not improve from 1.00502\n",
      "\n",
      "Epoch 00016: val_loss did not improve from 1.00502\n",
      "\n",
      "Epoch 00017: val_loss did not improve from 1.00502\n",
      "\n",
      "Epoch 00018: val_loss did not improve from 1.00502\n",
      "\n",
      "Epoch 00019: val_loss did not improve from 1.00502\n",
      "\n",
      "Epoch 00020: val_loss did not improve from 1.00502\n",
      "\n",
      "Epoch 00021: val_loss did not improve from 1.00502\n",
      "\n",
      "Epoch 00022: val_loss did not improve from 1.00502\n",
      "\n",
      "Epoch 00023: val_loss did not improve from 1.00502\n",
      "\n",
      "Epoch 00024: val_loss did not improve from 1.00502\n",
      "\n",
      "Epoch 00025: val_loss did not improve from 1.00502\n",
      "\n",
      "Epoch 00026: val_loss did not improve from 1.00502\n",
      "\n",
      "Epoch 00027: val_loss did not improve from 1.00502\n",
      "\n",
      "Epoch 00028: val_loss did not improve from 1.00502\n",
      "\n",
      "Epoch 00029: val_loss did not improve from 1.00502\n",
      "\n",
      "Epoch 00030: val_loss did not improve from 1.00502\n",
      "\n",
      "Epoch 00031: val_loss did not improve from 1.00502\n",
      "\n",
      "Epoch 00032: val_loss did not improve from 1.00502\n",
      "\n",
      "Epoch 00033: val_loss did not improve from 1.00502\n",
      "\n",
      "Epoch 00034: val_loss did not improve from 1.00502\n",
      "\n",
      "Epoch 00035: val_loss did not improve from 1.00502\n",
      "\n",
      "Epoch 00036: val_loss did not improve from 1.00502\n",
      "\n",
      "Epoch 00037: val_loss did not improve from 1.00502\n",
      "\n",
      "Epoch 00038: val_loss did not improve from 1.00502\n",
      "\n",
      "Epoch 00039: val_loss did not improve from 1.00502\n",
      "\n",
      "Epoch 00040: val_loss did not improve from 1.00502\n",
      "\n",
      "Epoch 00041: val_loss did not improve from 1.00502\n",
      "\n",
      "Epoch 00042: val_loss did not improve from 1.00502\n",
      "\n",
      "Epoch 00043: val_loss did not improve from 1.00502\n",
      "\n",
      "Epoch 00044: val_loss did not improve from 1.00502\n",
      "\n",
      "Epoch 00045: val_loss did not improve from 1.00502\n",
      "\n",
      "Epoch 00046: val_loss did not improve from 1.00502\n",
      "\n",
      "Epoch 00047: val_loss did not improve from 1.00502\n",
      "\n",
      "Epoch 00048: val_loss did not improve from 1.00502\n",
      "\n",
      "Epoch 00049: val_loss did not improve from 1.00502\n",
      "\n",
      "Epoch 00050: val_loss did not improve from 1.00502\n",
      "\n",
      "Epoch 00051: val_loss did not improve from 1.00502\n",
      "\n",
      "Epoch 00052: val_loss did not improve from 1.00502\n",
      "\n",
      "Epoch 00053: val_loss did not improve from 1.00502\n",
      "\n",
      "Epoch 00054: val_loss did not improve from 1.00502\n",
      "\n",
      "Epoch 00055: val_loss did not improve from 1.00502\n",
      "\n",
      "Epoch 00056: val_loss did not improve from 1.00502\n",
      "\n",
      "Epoch 00057: val_loss did not improve from 1.00502\n",
      "\n",
      "Epoch 00058: val_loss did not improve from 1.00502\n",
      "\n",
      "Epoch 00059: val_loss did not improve from 1.00502\n",
      "\n",
      "Epoch 00060: val_loss did not improve from 1.00502\n",
      "\n",
      "Epoch 00061: val_loss did not improve from 1.00502\n",
      "\n",
      "Epoch 00062: val_loss did not improve from 1.00502\n",
      "\n",
      "Epoch 00063: val_loss did not improve from 1.00502\n",
      "\n",
      "Epoch 00064: val_loss did not improve from 1.00502\n",
      "\n",
      "Epoch 00065: val_loss did not improve from 1.00502\n",
      "\n",
      "Epoch 00066: val_loss did not improve from 1.00502\n",
      "\n",
      "Epoch 00067: val_loss did not improve from 1.00502\n",
      "\n",
      "Epoch 00068: val_loss did not improve from 1.00502\n",
      "\n",
      "Epoch 00069: val_loss did not improve from 1.00502\n",
      "\n",
      "Epoch 00070: val_loss did not improve from 1.00502\n",
      "\n",
      "Epoch 00071: val_loss did not improve from 1.00502\n",
      "\n",
      "Epoch 00072: val_loss did not improve from 1.00502\n",
      "\n",
      "Epoch 00073: val_loss did not improve from 1.00502\n",
      "\n",
      "Epoch 00074: val_loss did not improve from 1.00502\n",
      "\n",
      "Epoch 00075: val_loss did not improve from 1.00502\n",
      "\n",
      "Epoch 00076: val_loss did not improve from 1.00502\n",
      "\n",
      "Epoch 00077: val_loss did not improve from 1.00502\n",
      "\n",
      "Epoch 00078: val_loss did not improve from 1.00502\n",
      "\n",
      "Epoch 00079: val_loss did not improve from 1.00502\n",
      "\n",
      "Epoch 00080: val_loss did not improve from 1.00502\n",
      "\n",
      "Epoch 00081: val_loss did not improve from 1.00502\n",
      "\n",
      "Epoch 00082: val_loss did not improve from 1.00502\n",
      "\n",
      "Epoch 00083: val_loss did not improve from 1.00502\n",
      "\n",
      "Epoch 00084: val_loss did not improve from 1.00502\n",
      "\n",
      "Epoch 00085: val_loss did not improve from 1.00502\n",
      "\n",
      "Epoch 00086: val_loss did not improve from 1.00502\n",
      "\n",
      "Epoch 00087: val_loss did not improve from 1.00502\n",
      "\n",
      "Epoch 00088: val_loss did not improve from 1.00502\n",
      "\n",
      "Epoch 00089: val_loss did not improve from 1.00502\n",
      "\n",
      "Epoch 00090: val_loss did not improve from 1.00502\n",
      "\n",
      "Epoch 00091: val_loss did not improve from 1.00502\n",
      "\n",
      "Epoch 00092: val_loss did not improve from 1.00502\n",
      "\n",
      "Epoch 00093: val_loss did not improve from 1.00502\n",
      "\n",
      "Epoch 00094: val_loss did not improve from 1.00502\n",
      "\n",
      "Epoch 00095: val_loss did not improve from 1.00502\n",
      "\n",
      "Epoch 00096: val_loss did not improve from 1.00502\n",
      "\n",
      "Epoch 00097: val_loss did not improve from 1.00502\n",
      "\n",
      "Epoch 00098: val_loss did not improve from 1.00502\n",
      "\n",
      "Epoch 00099: val_loss did not improve from 1.00502\n",
      "\n",
      "Epoch 00100: val_loss did not improve from 1.00502\n"
     ]
    }
   ],
   "source": [
    "model_2 = k.models.Sequential([\n",
    "    k.layers.Conv1D(256, 5, activation='relu', input_shape=(X_train.shape[1], X_train.shape[2])),\n",
    "    k.layers.BatchNormalization(),\n",
    "    k.layers.Dropout(0.3),\n",
    "    k.layers.MaxPooling1D(pool_size=(2)),\n",
    "    k.layers.Conv1D(128, 3, activation='relu'),\n",
    "    k.layers.BatchNormalization(),\n",
    "    k.layers.Dropout(0.3),\n",
    "    k.layers.MaxPooling1D(pool_size=(3)),\n",
    "    k.layers.Conv1D(64, 3, activation='relu'),\n",
    "    k.layers.BatchNormalization(),\n",
    "    k.layers.Flatten(),\n",
    "    k.layers.Dense(32, activation='relu'),\n",
    "    k.layers.Dense(len(index_label), activation='softmax'),\n",
    "])\n",
    "print(model_2.summary())\n",
    "model_2_history = trainModel(model=model_2, epochs=100, optimizer='adam', vb=0)"
   ]
  },
  {
   "cell_type": "code",
   "execution_count": 35,
   "metadata": {
    "execution": {
     "iopub.execute_input": "2021-01-21T23:20:26.926741Z",
     "iopub.status.busy": "2021-01-21T23:20:26.924594Z",
     "iopub.status.idle": "2021-01-21T23:20:27.207667Z",
     "shell.execute_reply": "2021-01-21T23:20:27.208169Z"
    },
    "papermill": {
     "duration": 0.493506,
     "end_time": "2021-01-21T23:20:27.208322",
     "exception": false,
     "start_time": "2021-01-21T23:20:26.714816",
     "status": "completed"
    },
    "tags": []
   },
   "outputs": [
    {
     "name": "stdout",
     "output_type": "stream",
     "text": [
      "Max. Validation Accuracy 0.75\n"
     ]
    },
    {
     "data": {
      "image/png": "[encoded data removed]",
      "text/plain": [
       "<Figure size 864x432 with 1 Axes>"
      ]
     },
     "metadata": {
      "needs_background": "light"
     },
     "output_type": "display_data"
    }
   ],
   "source": [
    "plotHistory(model_2_history)"
   ]
  },
  {
   "cell_type": "code",
   "execution_count": 36,
   "metadata": {
    "execution": {
     "iopub.execute_input": "2021-01-21T23:20:27.903860Z",
     "iopub.status.busy": "2021-01-21T23:20:27.899818Z",
     "iopub.status.idle": "2021-01-21T23:20:28.374090Z",
     "shell.execute_reply": "2021-01-21T23:20:28.373611Z"
    },
    "papermill": {
     "duration": 0.806707,
     "end_time": "2021-01-21T23:20:28.374198",
     "exception": false,
     "start_time": "2021-01-21T23:20:27.567491",
     "status": "completed"
    },
    "tags": []
   },
   "outputs": [
    {
     "name": "stdout",
     "output_type": "stream",
     "text": [
      "1/1 [==============================] - 0s 2ms/step - loss: 0.9620 - accuracy: 0.2200\n",
      "The test Loss is : 0.9619569182395935\n",
      "The test Accuracy is : 21.99999988079071\n"
     ]
    }
   ],
   "source": [
    "# evaluation\n",
    "test_loss, test_acc  = k.models.load_model(bestModelPath).evaluate(X_test, y_test, batch_size=128)\n",
    "print(\"The test Loss is :\",test_loss)\n",
    "print(\"The test Accuracy is :\",test_acc*100)"
   ]
  },
  {
   "cell_type": "code",
   "execution_count": 37,
   "metadata": {
    "execution": {
     "iopub.execute_input": "2021-01-21T23:20:28.802625Z",
     "iopub.status.busy": "2021-01-21T23:20:28.796785Z",
     "iopub.status.idle": "2021-01-21T23:20:54.380245Z",
     "shell.execute_reply": "2021-01-21T23:20:54.379706Z"
    },
    "papermill": {
     "duration": 25.810687,
     "end_time": "2021-01-21T23:20:54.380358",
     "exception": false,
     "start_time": "2021-01-21T23:20:28.569671",
     "status": "completed"
    },
    "scrolled": false,
    "tags": []
   },
   "outputs": [
    {
     "name": "stdout",
     "output_type": "stream",
     "text": [
      "Model: \"sequential_2\"\n",
      "_________________________________________________________________\n",
      "Layer (type)                 Output Shape              Param #   \n",
      "=================================================================\n",
      "bidirectional (Bidirectional (None, 128, 512)          788480    \n",
      "_________________________________________________________________\n",
      "bidirectional_1 (Bidirection (None, 256)               656384    \n",
      "_________________________________________________________________\n",
      "dense_3 (Dense)              (None, 64)                16448     \n",
      "_________________________________________________________________\n",
      "dropout_4 (Dropout)          (None, 64)                0         \n",
      "_________________________________________________________________\n",
      "dense_4 (Dense)              (None, 64)                4160      \n",
      "_________________________________________________________________\n",
      "dropout_5 (Dropout)          (None, 64)                0         \n",
      "_________________________________________________________________\n",
      "dense_5 (Dense)              (None, 32)                2080      \n",
      "_________________________________________________________________\n",
      "dense_6 (Dense)              (None, 3)                 99        \n",
      "=================================================================\n",
      "Total params: 1,467,651\n",
      "Trainable params: 1,467,651\n",
      "Non-trainable params: 0\n",
      "_________________________________________________________________\n",
      "None\n",
      "\n",
      "Epoch 00001: val_loss improved from inf to 1.10776, saving model to ./best_model.hdf5\n",
      "\n",
      "Epoch 00002: val_loss improved from 1.10776 to 1.05985, saving model to ./best_model.hdf5\n",
      "\n",
      "Epoch 00003: val_loss improved from 1.05985 to 1.05412, saving model to ./best_model.hdf5\n",
      "\n",
      "Epoch 00004: val_loss did not improve from 1.05412\n",
      "\n",
      "Epoch 00005: val_loss improved from 1.05412 to 1.02737, saving model to ./best_model.hdf5\n",
      "\n",
      "Epoch 00006: val_loss did not improve from 1.02737\n",
      "\n",
      "Epoch 00007: val_loss improved from 1.02737 to 0.85802, saving model to ./best_model.hdf5\n",
      "\n",
      "Epoch 00008: val_loss did not improve from 0.85802\n",
      "\n",
      "Epoch 00009: val_loss did not improve from 0.85802\n",
      "\n",
      "Epoch 00010: val_loss did not improve from 0.85802\n",
      "\n",
      "Epoch 00011: val_loss did not improve from 0.85802\n",
      "\n",
      "Epoch 00012: val_loss did not improve from 0.85802\n",
      "\n",
      "Epoch 00013: val_loss did not improve from 0.85802\n",
      "\n",
      "Epoch 00014: val_loss improved from 0.85802 to 0.73739, saving model to ./best_model.hdf5\n",
      "\n",
      "Epoch 00015: val_loss did not improve from 0.73739\n",
      "\n",
      "Epoch 00016: val_loss did not improve from 0.73739\n",
      "\n",
      "Epoch 00017: val_loss did not improve from 0.73739\n",
      "\n",
      "Epoch 00018: val_loss did not improve from 0.73739\n",
      "\n",
      "Epoch 00019: val_loss improved from 0.73739 to 0.72682, saving model to ./best_model.hdf5\n",
      "\n",
      "Epoch 00020: val_loss did not improve from 0.72682\n",
      "\n",
      "Epoch 00021: val_loss did not improve from 0.72682\n",
      "\n",
      "Epoch 00022: val_loss did not improve from 0.72682\n",
      "\n",
      "Epoch 00023: val_loss did not improve from 0.72682\n",
      "\n",
      "Epoch 00024: val_loss did not improve from 0.72682\n",
      "\n",
      "Epoch 00025: val_loss did not improve from 0.72682\n",
      "\n",
      "Epoch 00026: val_loss did not improve from 0.72682\n",
      "\n",
      "Epoch 00027: val_loss did not improve from 0.72682\n",
      "\n",
      "Epoch 00028: val_loss did not improve from 0.72682\n",
      "\n",
      "Epoch 00029: val_loss improved from 0.72682 to 0.65569, saving model to ./best_model.hdf5\n",
      "\n",
      "Epoch 00030: val_loss did not improve from 0.65569\n",
      "\n",
      "Epoch 00031: val_loss did not improve from 0.65569\n",
      "\n",
      "Epoch 00032: val_loss did not improve from 0.65569\n",
      "\n",
      "Epoch 00033: val_loss did not improve from 0.65569\n",
      "\n",
      "Epoch 00034: val_loss did not improve from 0.65569\n",
      "\n",
      "Epoch 00035: val_loss did not improve from 0.65569\n",
      "\n",
      "Epoch 00036: val_loss did not improve from 0.65569\n",
      "\n",
      "Epoch 00037: val_loss did not improve from 0.65569\n",
      "\n",
      "Epoch 00038: val_loss improved from 0.65569 to 0.53980, saving model to ./best_model.hdf5\n",
      "\n",
      "Epoch 00039: val_loss did not improve from 0.53980\n",
      "\n",
      "Epoch 00040: val_loss improved from 0.53980 to 0.53952, saving model to ./best_model.hdf5\n",
      "\n",
      "Epoch 00041: val_loss did not improve from 0.53952\n",
      "\n",
      "Epoch 00042: val_loss did not improve from 0.53952\n",
      "\n",
      "Epoch 00043: val_loss did not improve from 0.53952\n",
      "\n",
      "Epoch 00044: val_loss did not improve from 0.53952\n",
      "\n",
      "Epoch 00045: val_loss did not improve from 0.53952\n",
      "\n",
      "Epoch 00046: val_loss improved from 0.53952 to 0.49397, saving model to ./best_model.hdf5\n",
      "\n",
      "Epoch 00047: val_loss did not improve from 0.49397\n",
      "\n",
      "Epoch 00048: val_loss did not improve from 0.49397\n",
      "\n",
      "Epoch 00049: val_loss did not improve from 0.49397\n",
      "\n",
      "Epoch 00050: val_loss did not improve from 0.49397\n",
      "\n",
      "Epoch 00051: val_loss did not improve from 0.49397\n",
      "\n",
      "Epoch 00052: val_loss did not improve from 0.49397\n",
      "\n",
      "Epoch 00053: val_loss did not improve from 0.49397\n",
      "\n",
      "Epoch 00054: val_loss did not improve from 0.49397\n",
      "\n",
      "Epoch 00055: val_loss did not improve from 0.49397\n",
      "\n",
      "Epoch 00056: val_loss did not improve from 0.49397\n",
      "\n",
      "Epoch 00057: val_loss did not improve from 0.49397\n",
      "\n",
      "Epoch 00058: val_loss did not improve from 0.49397\n",
      "\n",
      "Epoch 00059: val_loss did not improve from 0.49397\n",
      "\n",
      "Epoch 00060: val_loss did not improve from 0.49397\n",
      "\n",
      "Epoch 00061: val_loss did not improve from 0.49397\n",
      "\n",
      "Epoch 00062: val_loss did not improve from 0.49397\n",
      "\n",
      "Epoch 00063: val_loss did not improve from 0.49397\n",
      "\n",
      "Epoch 00064: val_loss did not improve from 0.49397\n",
      "\n",
      "Epoch 00065: val_loss did not improve from 0.49397\n",
      "\n",
      "Epoch 00066: val_loss did not improve from 0.49397\n",
      "\n",
      "Epoch 00067: val_loss did not improve from 0.49397\n",
      "\n",
      "Epoch 00068: val_loss did not improve from 0.49397\n",
      "\n",
      "Epoch 00069: val_loss did not improve from 0.49397\n",
      "\n",
      "Epoch 00070: val_loss did not improve from 0.49397\n",
      "\n",
      "Epoch 00071: val_loss did not improve from 0.49397\n",
      "\n",
      "Epoch 00072: val_loss did not improve from 0.49397\n",
      "\n",
      "Epoch 00073: val_loss did not improve from 0.49397\n",
      "\n",
      "Epoch 00074: val_loss did not improve from 0.49397\n",
      "\n",
      "Epoch 00075: val_loss did not improve from 0.49397\n",
      "\n",
      "Epoch 00076: val_loss did not improve from 0.49397\n",
      "\n",
      "Epoch 00077: val_loss did not improve from 0.49397\n",
      "\n",
      "Epoch 00078: val_loss did not improve from 0.49397\n",
      "\n",
      "Epoch 00079: val_loss did not improve from 0.49397\n",
      "\n",
      "Epoch 00080: val_loss did not improve from 0.49397\n",
      "\n",
      "Epoch 00081: val_loss did not improve from 0.49397\n",
      "\n",
      "Epoch 00082: val_loss did not improve from 0.49397\n",
      "\n",
      "Epoch 00083: val_loss did not improve from 0.49397\n",
      "\n",
      "Epoch 00084: val_loss did not improve from 0.49397\n",
      "\n",
      "Epoch 00085: val_loss did not improve from 0.49397\n",
      "\n",
      "Epoch 00086: val_loss did not improve from 0.49397\n",
      "\n",
      "Epoch 00087: val_loss did not improve from 0.49397\n",
      "\n",
      "Epoch 00088: val_loss did not improve from 0.49397\n",
      "\n",
      "Epoch 00089: val_loss did not improve from 0.49397\n",
      "\n",
      "Epoch 00090: val_loss did not improve from 0.49397\n",
      "\n",
      "Epoch 00091: val_loss did not improve from 0.49397\n",
      "\n",
      "Epoch 00092: val_loss did not improve from 0.49397\n",
      "\n",
      "Epoch 00093: val_loss did not improve from 0.49397\n",
      "\n",
      "Epoch 00094: val_loss did not improve from 0.49397\n",
      "\n",
      "Epoch 00095: val_loss did not improve from 0.49397\n",
      "\n",
      "Epoch 00096: val_loss did not improve from 0.49397\n",
      "\n",
      "Epoch 00097: val_loss did not improve from 0.49397\n",
      "\n",
      "Epoch 00098: val_loss did not improve from 0.49397\n",
      "\n",
      "Epoch 00099: val_loss did not improve from 0.49397\n",
      "\n",
      "Epoch 00100: val_loss did not improve from 0.49397\n"
     ]
    }
   ],
   "source": [
    "model_3 = k.models.Sequential([\n",
    "    k.layers.Bidirectional(k.layers.LSTM(256, return_sequences=True), input_shape=(X_train.shape[1], X_train.shape[2])),\n",
    "\n",
    "    k.layers.Bidirectional(k.layers.LSTM(128, return_sequences=False)),\n",
    "\n",
    "    k.layers.Dense(64, activation='relu'),\n",
    "    k.layers.Dropout(0.2),\n",
    "    k.layers.Dense(64, activation='relu'),\n",
    "    k.layers.Dropout(0.2),\n",
    "    k.layers.Dense(32, activation='relu'),\n",
    "    k.layers.Dense(len(index_label), activation='softmax'),\n",
    "])\n",
    "print(model_3.summary())\n",
    "model_3_history = trainModel(model=model_3, epochs=100, optimizer='rmsprop', vb=0)"
   ]
  },
  {
   "cell_type": "code",
   "execution_count": 38,
   "metadata": {
    "execution": {
     "iopub.execute_input": "2021-01-21T23:20:54.815335Z",
     "iopub.status.busy": "2021-01-21T23:20:54.813455Z",
     "iopub.status.idle": "2021-01-21T23:20:55.105338Z",
     "shell.execute_reply": "2021-01-21T23:20:55.104808Z"
    },
    "papermill": {
     "duration": 0.514332,
     "end_time": "2021-01-21T23:20:55.105436",
     "exception": false,
     "start_time": "2021-01-21T23:20:54.591104",
     "status": "completed"
    },
    "tags": []
   },
   "outputs": [
    {
     "name": "stdout",
     "output_type": "stream",
     "text": [
      "Max. Validation Accuracy 0.925000011920929\n"
     ]
    },
    {
     "data": {
      "image/png": "[encoded data removed]",
      "text/plain": [
       "<Figure size 864x432 with 1 Axes>"
      ]
     },
     "metadata": {
      "needs_background": "light"
     },
     "output_type": "display_data"
    }
   ],
   "source": [
    "plotHistory(model_3_history)"
   ]
  },
  {
   "cell_type": "code",
   "execution_count": 39,
   "metadata": {
    "execution": {
     "iopub.execute_input": "2021-01-21T23:20:55.542853Z",
     "iopub.status.busy": "2021-01-21T23:20:55.542008Z",
     "iopub.status.idle": "2021-01-21T23:20:57.637065Z",
     "shell.execute_reply": "2021-01-21T23:20:57.636534Z"
    },
    "papermill": {
     "duration": 2.316567,
     "end_time": "2021-01-21T23:20:57.637169",
     "exception": false,
     "start_time": "2021-01-21T23:20:55.320602",
     "status": "completed"
    },
    "tags": []
   },
   "outputs": [
    {
     "name": "stdout",
     "output_type": "stream",
     "text": [
      "1/1 [==============================] - 0s 2ms/step - loss: 0.5396 - accuracy: 0.4000\n",
      "The test Loss is : 0.5396065711975098\n",
      "The test Accuracy is : 40.00000059604645\n"
     ]
    }
   ],
   "source": [
    "# evaluation\n",
    "test_loss, test_acc  = k.models.load_model(bestModelPath).evaluate(X_test, y_test, batch_size=128)\n",
    "print(\"The test Loss is :\",test_loss)\n",
    "print(\"The test Accuracy is :\",test_acc*100)"
   ]
  },
  {
   "cell_type": "code",
   "execution_count": 40,
   "metadata": {
    "execution": {
     "iopub.execute_input": "2021-01-21T23:20:58.076581Z",
     "iopub.status.busy": "2021-01-21T23:20:58.075668Z",
     "iopub.status.idle": "2021-01-21T23:20:58.079341Z",
     "shell.execute_reply": "2021-01-21T23:20:58.079751Z"
    },
    "papermill": {
     "duration": 0.226714,
     "end_time": "2021-01-21T23:20:58.079859",
     "exception": false,
     "start_time": "2021-01-21T23:20:57.853145",
     "status": "completed"
    },
    "tags": []
   },
   "outputs": [
    {
     "data": {
      "text/plain": [
       "(200, 128, 128, 1)"
      ]
     },
     "execution_count": 40,
     "metadata": {},
     "output_type": "execute_result"
    }
   ],
   "source": [
    "# make features 3D with last dim as 1 for 1DConv\n",
    "X_train = np.expand_dims(X_train, axis=3)\n",
    "X_test = np.expand_dims(X_test, axis=3)\n",
    "X_train.shape"
   ]
  },
  {
   "cell_type": "code",
   "execution_count": 41,
   "metadata": {
    "execution": {
     "iopub.execute_input": "2021-01-21T23:20:58.532738Z",
     "iopub.status.busy": "2021-01-21T23:20:58.527287Z",
     "iopub.status.idle": "2021-01-21T23:21:14.769996Z",
     "shell.execute_reply": "2021-01-21T23:21:14.769225Z"
    },
    "papermill": {
     "duration": 16.47591,
     "end_time": "2021-01-21T23:21:14.770107",
     "exception": false,
     "start_time": "2021-01-21T23:20:58.294197",
     "status": "completed"
    },
    "scrolled": true,
    "tags": []
   },
   "outputs": [
    {
     "name": "stdout",
     "output_type": "stream",
     "text": [
      "Model: \"sequential_3\"\n",
      "_________________________________________________________________\n",
      "Layer (type)                 Output Shape              Param #   \n",
      "=================================================================\n",
      "conv2d (Conv2D)              (None, 124, 124, 256)     6656      \n",
      "_________________________________________________________________\n",
      "batch_normalization_6 (Batch (None, 124, 124, 256)     1024      \n",
      "_________________________________________________________________\n",
      "max_pooling2d (MaxPooling2D) (None, 62, 62, 256)       0         \n",
      "_________________________________________________________________\n",
      "dropout_6 (Dropout)          (None, 62, 62, 256)       0         \n",
      "_________________________________________________________________\n",
      "conv2d_1 (Conv2D)            (None, 60, 60, 128)       295040    \n",
      "_________________________________________________________________\n",
      "batch_normalization_7 (Batch (None, 60, 60, 128)       512       \n",
      "_________________________________________________________________\n",
      "max_pooling2d_1 (MaxPooling2 (None, 30, 30, 128)       0         \n",
      "_________________________________________________________________\n",
      "dropout_7 (Dropout)          (None, 30, 30, 128)       0         \n",
      "_________________________________________________________________\n",
      "conv2d_2 (Conv2D)            (None, 28, 28, 64)        73792     \n",
      "_________________________________________________________________\n",
      "batch_normalization_8 (Batch (None, 28, 28, 64)        256       \n",
      "_________________________________________________________________\n",
      "flatten_2 (Flatten)          (None, 50176)             0         \n",
      "_________________________________________________________________\n",
      "dense_7 (Dense)              (None, 64)                3211328   \n",
      "_________________________________________________________________\n",
      "dense_8 (Dense)              (None, 3)                 195       \n",
      "=================================================================\n",
      "Total params: 3,588,803\n",
      "Trainable params: 3,587,907\n",
      "Non-trainable params: 896\n",
      "_________________________________________________________________\n",
      "None\n",
      "\n",
      "Epoch 00001: val_loss improved from inf to 1.04624, saving model to ./best_model.hdf5\n",
      "\n",
      "Epoch 00002: val_loss did not improve from 1.04624\n",
      "\n",
      "Epoch 00003: val_loss did not improve from 1.04624\n",
      "\n",
      "Epoch 00004: val_loss did not improve from 1.04624\n",
      "\n",
      "Epoch 00005: val_loss did not improve from 1.04624\n",
      "\n",
      "Epoch 00006: val_loss did not improve from 1.04624\n",
      "\n",
      "Epoch 00007: val_loss did not improve from 1.04624\n",
      "\n",
      "Epoch 00008: val_loss did not improve from 1.04624\n",
      "\n",
      "Epoch 00009: val_loss did not improve from 1.04624\n",
      "\n",
      "Epoch 00010: val_loss did not improve from 1.04624\n",
      "\n",
      "Epoch 00011: val_loss did not improve from 1.04624\n",
      "\n",
      "Epoch 00012: val_loss did not improve from 1.04624\n",
      "\n",
      "Epoch 00013: val_loss did not improve from 1.04624\n",
      "\n",
      "Epoch 00014: val_loss did not improve from 1.04624\n",
      "\n",
      "Epoch 00015: val_loss did not improve from 1.04624\n",
      "\n",
      "Epoch 00016: val_loss did not improve from 1.04624\n",
      "\n",
      "Epoch 00017: val_loss did not improve from 1.04624\n",
      "\n",
      "Epoch 00018: val_loss did not improve from 1.04624\n",
      "\n",
      "Epoch 00019: val_loss did not improve from 1.04624\n",
      "\n",
      "Epoch 00020: val_loss did not improve from 1.04624\n",
      "\n",
      "Epoch 00021: val_loss did not improve from 1.04624\n",
      "\n",
      "Epoch 00022: val_loss did not improve from 1.04624\n",
      "\n",
      "Epoch 00023: val_loss did not improve from 1.04624\n",
      "\n",
      "Epoch 00024: val_loss did not improve from 1.04624\n",
      "\n",
      "Epoch 00025: val_loss did not improve from 1.04624\n",
      "\n",
      "Epoch 00026: val_loss did not improve from 1.04624\n",
      "\n",
      "Epoch 00027: val_loss did not improve from 1.04624\n",
      "\n",
      "Epoch 00028: val_loss did not improve from 1.04624\n",
      "\n",
      "Epoch 00029: val_loss did not improve from 1.04624\n",
      "\n",
      "Epoch 00030: val_loss did not improve from 1.04624\n",
      "\n",
      "Epoch 00031: val_loss did not improve from 1.04624\n",
      "\n",
      "Epoch 00032: val_loss did not improve from 1.04624\n",
      "\n",
      "Epoch 00033: val_loss did not improve from 1.04624\n",
      "\n",
      "Epoch 00034: val_loss did not improve from 1.04624\n",
      "\n",
      "Epoch 00035: val_loss did not improve from 1.04624\n",
      "\n",
      "Epoch 00036: val_loss did not improve from 1.04624\n",
      "\n",
      "Epoch 00037: val_loss did not improve from 1.04624\n",
      "\n",
      "Epoch 00038: val_loss did not improve from 1.04624\n",
      "\n",
      "Epoch 00039: val_loss did not improve from 1.04624\n",
      "\n",
      "Epoch 00040: val_loss did not improve from 1.04624\n",
      "\n",
      "Epoch 00041: val_loss did not improve from 1.04624\n",
      "\n",
      "Epoch 00042: val_loss did not improve from 1.04624\n",
      "\n",
      "Epoch 00043: val_loss did not improve from 1.04624\n",
      "\n",
      "Epoch 00044: val_loss did not improve from 1.04624\n",
      "\n",
      "Epoch 00045: val_loss did not improve from 1.04624\n",
      "\n",
      "Epoch 00046: val_loss did not improve from 1.04624\n",
      "\n",
      "Epoch 00047: val_loss did not improve from 1.04624\n",
      "\n",
      "Epoch 00048: val_loss did not improve from 1.04624\n",
      "\n",
      "Epoch 00049: val_loss did not improve from 1.04624\n",
      "\n",
      "Epoch 00050: val_loss did not improve from 1.04624\n"
     ]
    }
   ],
   "source": [
    "model_4 = k.models.Sequential([\n",
    "    k.layers.Conv2D(256, (5,5), activation='relu', input_shape=(X_train.shape[1], X_train.shape[2], 1)),\n",
    "    k.layers.BatchNormalization(),\n",
    "    k.layers.MaxPooling2D(pool_size=(2)),\n",
    "    k.layers.Dropout(0.3),\n",
    "    k.layers.Conv2D(128, (3,3), activation='relu'),\n",
    "    k.layers.BatchNormalization(),\n",
    "    k.layers.MaxPooling2D(pool_size=(2)),\n",
    "    k.layers.Dropout(0.3),\n",
    "    k.layers.Conv2D(64, (3,3), padding='valid', activation='relu'),\n",
    "    k.layers.BatchNormalization(),\n",
    "    k.layers.Flatten(),\n",
    "    k.layers.Dense(64, activation='relu'),\n",
    "    k.layers.Dense(len(index_label), activation='softmax'),\n",
    "\n",
    "])\n",
    "print(model_4.summary())\n",
    "model_4_history = trainModel(model=model_4, epochs=50, optimizer='adam', vb=0)"
   ]
  },
  {
   "cell_type": "code",
   "execution_count": 42,
   "metadata": {
    "execution": {
     "iopub.execute_input": "2021-01-21T23:21:15.250484Z",
     "iopub.status.busy": "2021-01-21T23:21:15.241792Z",
     "iopub.status.idle": "2021-01-21T23:21:15.515718Z",
     "shell.execute_reply": "2021-01-21T23:21:15.516212Z"
    },
    "papermill": {
     "duration": 0.506967,
     "end_time": "2021-01-21T23:21:15.516340",
     "exception": false,
     "start_time": "2021-01-21T23:21:15.009373",
     "status": "completed"
    },
    "scrolled": false,
    "tags": []
   },
   "outputs": [
    {
     "name": "stdout",
     "output_type": "stream",
     "text": [
      "Max. Validation Accuracy 0.574999988079071\n"
     ]
    },
    {
     "data": {
      "image/png": "[encoded data removed]",
      "text/plain": [
       "<Figure size 864x432 with 1 Axes>"
      ]
     },
     "metadata": {
      "needs_background": "light"
     },
     "output_type": "display_data"
    }
   ],
   "source": [
    "plotHistory(model_4_history)"
   ]
  },
  {
   "cell_type": "code",
   "execution_count": 43,
   "metadata": {
    "execution": {
     "iopub.execute_input": "2021-01-21T23:21:15.994688Z",
     "iopub.status.busy": "2021-01-21T23:21:15.993810Z",
     "iopub.status.idle": "2021-01-21T23:21:16.600232Z",
     "shell.execute_reply": "2021-01-21T23:21:16.599751Z"
    },
    "papermill": {
     "duration": 0.845706,
     "end_time": "2021-01-21T23:21:16.600331",
     "exception": false,
     "start_time": "2021-01-21T23:21:15.754625",
     "status": "completed"
    },
    "tags": []
   },
   "outputs": [
    {
     "name": "stdout",
     "output_type": "stream",
     "text": [
      "1/1 [==============================] - 0s 2ms/step - loss: 1.0962 - accuracy: 0.0000e+00\n",
      "The test Loss is : 1.0961564779281616\n",
      "The test Accuracy is : 0.0\n"
     ]
    }
   ],
   "source": [
    "# evaluation\n",
    "test_loss, test_acc  = k.models.load_model(bestModelPath).evaluate(X_test, y_test, batch_size=128)\n",
    "print(\"The test Loss is :\",test_loss)\n",
    "print(\"The test Accuracy is :\",test_acc*100)"
   ]
  },
  {
   "cell_type": "code",
   "execution_count": 44,
   "metadata": {
    "execution": {
     "iopub.execute_input": "2021-01-21T23:21:17.072740Z",
     "iopub.status.busy": "2021-01-21T23:21:17.070970Z",
     "iopub.status.idle": "2021-01-21T23:22:59.426579Z",
     "shell.execute_reply": "2021-01-21T23:22:59.427020Z"
    },
    "papermill": {
     "duration": 102.595584,
     "end_time": "2021-01-21T23:22:59.427175",
     "exception": false,
     "start_time": "2021-01-21T23:21:16.831591",
     "status": "completed"
    },
    "tags": []
   },
   "outputs": [
    {
     "name": "stdout",
     "output_type": "stream",
     "text": [
      "Model: \"conv_3d7\"\n",
      "_________________________________________________________________\n",
      "Layer (type)                 Output Shape              Param #   \n",
      "=================================================================\n",
      "time_distributed (TimeDistri (None, 128, 124, 256)     1536      \n",
      "_________________________________________________________________\n",
      "time_distributed_1 (TimeDist (None, 128, 124, 256)     1024      \n",
      "_________________________________________________________________\n",
      "time_distributed_2 (TimeDist (None, 128, 62, 256)      0         \n",
      "_________________________________________________________________\n",
      "time_distributed_3 (TimeDist (None, 128, 62, 256)      0         \n",
      "_________________________________________________________________\n",
      "time_distributed_4 (TimeDist (None, 128, 60, 128)      98432     \n",
      "_________________________________________________________________\n",
      "time_distributed_5 (TimeDist (None, 128, 60, 128)      512       \n",
      "_________________________________________________________________\n",
      "time_distributed_6 (TimeDist (None, 128, 30, 128)      0         \n",
      "_________________________________________________________________\n",
      "time_distributed_7 (TimeDist (None, 128, 30, 128)      0         \n",
      "_________________________________________________________________\n",
      "time_distributed_8 (TimeDist (None, 128, 3840)         0         \n",
      "_________________________________________________________________\n",
      "bidirectional_2 (Bidirection (None, 128, 512)          8390656   \n",
      "_________________________________________________________________\n",
      "dropout_10 (Dropout)         (None, 128, 512)          0         \n",
      "_________________________________________________________________\n",
      "bidirectional_3 (Bidirection (None, 256)               656384    \n",
      "_________________________________________________________________\n",
      "dropout_11 (Dropout)         (None, 256)               0         \n",
      "_________________________________________________________________\n",
      "dense_9 (Dense)              (None, 64)                16448     \n",
      "_________________________________________________________________\n",
      "dropout_12 (Dropout)         (None, 64)                0         \n",
      "_________________________________________________________________\n",
      "dense_10 (Dense)             (None, 3)                 195       \n",
      "=================================================================\n",
      "Total params: 9,165,187\n",
      "Trainable params: 9,164,419\n",
      "Non-trainable params: 768\n",
      "_________________________________________________________________\n",
      "None\n",
      "\n",
      "Epoch 00001: val_loss improved from inf to 1.07521, saving model to ./best_model.hdf5\n",
      "\n",
      "Epoch 00002: val_loss improved from 1.07521 to 1.06141, saving model to ./best_model.hdf5\n",
      "\n",
      "Epoch 00003: val_loss improved from 1.06141 to 1.03592, saving model to ./best_model.hdf5\n",
      "\n",
      "Epoch 00004: val_loss improved from 1.03592 to 1.02704, saving model to ./best_model.hdf5\n",
      "\n",
      "Epoch 00005: val_loss improved from 1.02704 to 0.99846, saving model to ./best_model.hdf5\n",
      "\n",
      "Epoch 00006: val_loss improved from 0.99846 to 0.98378, saving model to ./best_model.hdf5\n",
      "\n",
      "Epoch 00007: val_loss did not improve from 0.98378\n",
      "\n",
      "Epoch 00008: val_loss did not improve from 0.98378\n",
      "\n",
      "Epoch 00009: val_loss did not improve from 0.98378\n",
      "\n",
      "Epoch 00010: val_loss did not improve from 0.98378\n",
      "\n",
      "Epoch 00011: val_loss did not improve from 0.98378\n",
      "\n",
      "Epoch 00012: val_loss did not improve from 0.98378\n",
      "\n",
      "Epoch 00013: val_loss did not improve from 0.98378\n",
      "\n",
      "Epoch 00014: val_loss did not improve from 0.98378\n",
      "\n",
      "Epoch 00015: val_loss did not improve from 0.98378\n",
      "\n",
      "Epoch 00016: val_loss did not improve from 0.98378\n",
      "\n",
      "Epoch 00017: val_loss did not improve from 0.98378\n",
      "\n",
      "Epoch 00018: val_loss did not improve from 0.98378\n",
      "\n",
      "Epoch 00019: val_loss did not improve from 0.98378\n",
      "\n",
      "Epoch 00020: val_loss did not improve from 0.98378\n",
      "\n",
      "Epoch 00021: val_loss did not improve from 0.98378\n",
      "\n",
      "Epoch 00022: val_loss did not improve from 0.98378\n",
      "\n",
      "Epoch 00023: val_loss did not improve from 0.98378\n",
      "\n",
      "Epoch 00024: val_loss did not improve from 0.98378\n",
      "\n",
      "Epoch 00025: val_loss did not improve from 0.98378\n",
      "\n",
      "Epoch 00026: val_loss did not improve from 0.98378\n",
      "\n",
      "Epoch 00027: val_loss did not improve from 0.98378\n",
      "\n",
      "Epoch 00028: val_loss did not improve from 0.98378\n",
      "\n",
      "Epoch 00029: val_loss did not improve from 0.98378\n",
      "\n",
      "Epoch 00030: val_loss did not improve from 0.98378\n",
      "\n",
      "Epoch 00031: val_loss did not improve from 0.98378\n",
      "\n",
      "Epoch 00032: val_loss did not improve from 0.98378\n",
      "\n",
      "Epoch 00033: val_loss did not improve from 0.98378\n",
      "\n",
      "Epoch 00034: val_loss did not improve from 0.98378\n",
      "\n",
      "Epoch 00035: val_loss did not improve from 0.98378\n",
      "\n",
      "Epoch 00036: val_loss did not improve from 0.98378\n",
      "\n",
      "Epoch 00037: val_loss did not improve from 0.98378\n",
      "\n",
      "Epoch 00038: val_loss did not improve from 0.98378\n",
      "\n",
      "Epoch 00039: val_loss did not improve from 0.98378\n",
      "\n",
      "Epoch 00040: val_loss did not improve from 0.98378\n",
      "\n",
      "Epoch 00041: val_loss did not improve from 0.98378\n",
      "\n",
      "Epoch 00042: val_loss did not improve from 0.98378\n",
      "\n",
      "Epoch 00043: val_loss did not improve from 0.98378\n",
      "\n",
      "Epoch 00044: val_loss did not improve from 0.98378\n",
      "\n",
      "Epoch 00045: val_loss did not improve from 0.98378\n",
      "\n",
      "Epoch 00046: val_loss did not improve from 0.98378\n",
      "\n",
      "Epoch 00047: val_loss did not improve from 0.98378\n",
      "\n",
      "Epoch 00048: val_loss did not improve from 0.98378\n",
      "\n",
      "Epoch 00049: val_loss did not improve from 0.98378\n",
      "\n",
      "Epoch 00050: val_loss did not improve from 0.98378\n",
      "\n",
      "Epoch 00051: val_loss did not improve from 0.98378\n",
      "\n",
      "Epoch 00052: val_loss did not improve from 0.98378\n",
      "\n",
      "Epoch 00053: val_loss did not improve from 0.98378\n",
      "\n",
      "Epoch 00054: val_loss did not improve from 0.98378\n",
      "\n",
      "Epoch 00055: val_loss did not improve from 0.98378\n",
      "\n",
      "Epoch 00056: val_loss did not improve from 0.98378\n",
      "\n",
      "Epoch 00057: val_loss did not improve from 0.98378\n",
      "\n",
      "Epoch 00058: val_loss did not improve from 0.98378\n",
      "\n",
      "Epoch 00059: val_loss did not improve from 0.98378\n",
      "\n",
      "Epoch 00060: val_loss did not improve from 0.98378\n",
      "\n",
      "Epoch 00061: val_loss did not improve from 0.98378\n",
      "\n",
      "Epoch 00062: val_loss did not improve from 0.98378\n",
      "\n",
      "Epoch 00063: val_loss did not improve from 0.98378\n",
      "\n",
      "Epoch 00064: val_loss did not improve from 0.98378\n",
      "\n",
      "Epoch 00065: val_loss did not improve from 0.98378\n",
      "\n",
      "Epoch 00066: val_loss did not improve from 0.98378\n",
      "\n",
      "Epoch 00067: val_loss did not improve from 0.98378\n",
      "\n",
      "Epoch 00068: val_loss did not improve from 0.98378\n",
      "\n",
      "Epoch 00069: val_loss did not improve from 0.98378\n",
      "\n",
      "Epoch 00070: val_loss did not improve from 0.98378\n",
      "\n",
      "Epoch 00071: val_loss did not improve from 0.98378\n",
      "\n",
      "Epoch 00072: val_loss did not improve from 0.98378\n",
      "\n",
      "Epoch 00073: val_loss did not improve from 0.98378\n",
      "\n",
      "Epoch 00074: val_loss did not improve from 0.98378\n",
      "\n",
      "Epoch 00075: val_loss did not improve from 0.98378\n",
      "\n",
      "Epoch 00076: val_loss did not improve from 0.98378\n",
      "\n",
      "Epoch 00077: val_loss did not improve from 0.98378\n",
      "\n",
      "Epoch 00078: val_loss did not improve from 0.98378\n",
      "\n",
      "Epoch 00079: val_loss did not improve from 0.98378\n",
      "\n",
      "Epoch 00080: val_loss did not improve from 0.98378\n",
      "\n",
      "Epoch 00081: val_loss did not improve from 0.98378\n",
      "\n",
      "Epoch 00082: val_loss did not improve from 0.98378\n",
      "\n",
      "Epoch 00083: val_loss did not improve from 0.98378\n",
      "\n",
      "Epoch 00084: val_loss did not improve from 0.98378\n",
      "\n",
      "Epoch 00085: val_loss did not improve from 0.98378\n",
      "\n",
      "Epoch 00086: val_loss did not improve from 0.98378\n",
      "\n",
      "Epoch 00087: val_loss did not improve from 0.98378\n",
      "\n",
      "Epoch 00088: val_loss did not improve from 0.98378\n",
      "\n",
      "Epoch 00089: val_loss did not improve from 0.98378\n",
      "\n",
      "Epoch 00090: val_loss did not improve from 0.98378\n",
      "\n",
      "Epoch 00091: val_loss did not improve from 0.98378\n",
      "\n",
      "Epoch 00092: val_loss did not improve from 0.98378\n",
      "\n",
      "Epoch 00093: val_loss did not improve from 0.98378\n",
      "\n",
      "Epoch 00094: val_loss did not improve from 0.98378\n",
      "\n",
      "Epoch 00095: val_loss did not improve from 0.98378\n",
      "\n",
      "Epoch 00096: val_loss did not improve from 0.98378\n",
      "\n",
      "Epoch 00097: val_loss did not improve from 0.98378\n",
      "\n",
      "Epoch 00098: val_loss did not improve from 0.98378\n",
      "\n",
      "Epoch 00099: val_loss did not improve from 0.98378\n",
      "\n",
      "Epoch 00100: val_loss did not improve from 0.98378\n"
     ]
    }
   ],
   "source": [
    "inputShape = (X_train.shape[1], X_train.shape[2], 1)\n",
    "model_5 = k.models.Sequential([\n",
    "    k.layers.TimeDistributed(k.layers.Conv1D(256, 5), input_shape=inputShape),\n",
    "    k.layers.TimeDistributed(k.layers.BatchNormalization()),\n",
    "    k.layers.TimeDistributed(k.layers.MaxPooling1D((2))),\n",
    "    k.layers.TimeDistributed(k.layers.Dropout(0.3)),\n",
    "\n",
    "    k.layers.TimeDistributed(k.layers.Conv1D(128, 3), input_shape=inputShape),\n",
    "    k.layers.TimeDistributed(k.layers.BatchNormalization()),\n",
    "    k.layers.TimeDistributed(k.layers.MaxPooling1D((2))),\n",
    "    k.layers.TimeDistributed(k.layers.Dropout(0.3)),\n",
    "    k.layers.TimeDistributed(k.layers.Flatten())\n",
    "\n",
    "], name=\"conv_3d7\")\n",
    "\n",
    "model_5.add(k.layers.Bidirectional(k.layers.LSTM(256, return_sequences=True)))\n",
    "model_5.add(k.layers.Dropout(0.3))\n",
    "\n",
    "model_5.add(k.layers.Bidirectional(k.layers.LSTM(128)))\n",
    "model_5.add(k.layers.Dropout(0.3))\n",
    "\n",
    "model_5.add(k.layers.Dense(64, activation='relu'))\n",
    "model_5.add(k.layers.Dropout(0.3))\n",
    "\n",
    "model_5.add(k.layers.Dense(len(index_label), activation='softmax'))\n",
    "\n",
    "print(model_5.summary())\n",
    "model_5_history = trainModel(model=model_5, epochs=100, optimizer='adam', vb=0)"
   ]
  },
  {
   "cell_type": "code",
   "execution_count": 45,
   "metadata": {
    "execution": {
     "iopub.execute_input": "2021-01-21T23:22:59.964865Z",
     "iopub.status.busy": "2021-01-21T23:22:59.958669Z",
     "iopub.status.idle": "2021-01-21T23:23:00.238317Z",
     "shell.execute_reply": "2021-01-21T23:23:00.238773Z"
    },
    "papermill": {
     "duration": 0.553129,
     "end_time": "2021-01-21T23:23:00.238917",
     "exception": false,
     "start_time": "2021-01-21T23:22:59.685788",
     "status": "completed"
    },
    "tags": []
   },
   "outputs": [
    {
     "name": "stdout",
     "output_type": "stream",
     "text": [
      "Max. Validation Accuracy 0.75\n"
     ]
    },
    {
     "data": {
      "image/png": "[encoded data removed]",
      "text/plain": [
       "<Figure size 864x432 with 1 Axes>"
      ]
     },
     "metadata": {
      "needs_background": "light"
     },
     "output_type": "display_data"
    }
   ],
   "source": [
    "plotHistory(model_5_history)"
   ]
  },
  {
   "cell_type": "code",
   "execution_count": 46,
   "metadata": {
    "execution": {
     "iopub.execute_input": "2021-01-21T23:23:00.767908Z",
     "iopub.status.busy": "2021-01-21T23:23:00.764558Z",
     "iopub.status.idle": "2021-01-21T23:23:03.542161Z",
     "shell.execute_reply": "2021-01-21T23:23:03.541703Z"
    },
    "papermill": {
     "duration": 3.040784,
     "end_time": "2021-01-21T23:23:03.542262",
     "exception": false,
     "start_time": "2021-01-21T23:23:00.501478",
     "status": "completed"
    },
    "tags": []
   },
   "outputs": [
    {
     "name": "stdout",
     "output_type": "stream",
     "text": [
      "1/1 [==============================] - 0s 2ms/step - loss: 1.0605 - accuracy: 0.0000e+00\n",
      "The test Loss is : 1.0604705810546875\n",
      "The test Accuracy is : 0.0\n"
     ]
    }
   ],
   "source": [
    "# evaluation\n",
    "test_loss, test_acc  = k.models.load_model(bestModelPath).evaluate(X_test, y_test, batch_size=128)\n",
    "print(\"The test Loss is :\",test_loss)\n",
    "print(\"The test Accuracy is :\",test_acc*100)"
   ]
  },
  {
   "cell_type": "markdown",
   "metadata": {
    "papermill": {
     "duration": 0.262027,
     "end_time": "2021-01-21T23:23:04.065630",
     "exception": false,
     "start_time": "2021-01-21T23:23:03.803603",
     "status": "completed"
    },
    "tags": []
   },
   "source": [
    "## Model using Image Data"
   ]
  },
  {
   "cell_type": "code",
   "execution_count": 47,
   "metadata": {
    "execution": {
     "iopub.execute_input": "2021-01-21T23:23:04.596341Z",
     "iopub.status.busy": "2021-01-21T23:23:04.595619Z",
     "iopub.status.idle": "2021-01-21T23:23:04.599560Z",
     "shell.execute_reply": "2021-01-21T23:23:04.599126Z"
    },
    "papermill": {
     "duration": 0.274721,
     "end_time": "2021-01-21T23:23:04.599648",
     "exception": false,
     "start_time": "2021-01-21T23:23:04.324927",
     "status": "completed"
    },
    "tags": []
   },
   "outputs": [],
   "source": [
    "modelPath = './best_model.hdf5'\n",
    "ACCURACY_THRESHOLD = 0.95\n",
    "\n",
    "class myCallback(k.callbacks.Callback):\n",
    "    def on_epoch_end(self, epoch, logs={}):\n",
    "        if(logs.get('val_accuracy') > ACCURACY_THRESHOLD):\n",
    "            print(\"\\n\\nStopping training as we have reached %2.2f%% accuracy!\" %(ACCURACY_THRESHOLD*100))   \n",
    "            self.model.stop_training = True\n",
    "\n",
    "acc_callback = myCallback()\n",
    "\n",
    "cbs = [#k.callbacks.ReduceLROnPlateau(patience=3, verbose=1), \n",
    "       k.callbacks.ModelCheckpoint(filepath=modelPath, monitor='val_loss', verbose=1, save_best_only=True)]\n",
    "\n",
    "def trainImgModel(model, epochs, optimizer, vb=1):\n",
    "    batch_size = 64\n",
    "    callback = myCallback()\n",
    "    model.compile(optimizer=optimizer,\n",
    "                  loss='sparse_categorical_crossentropy',\n",
    "                  metrics='accuracy'\n",
    "    )\n",
    "    return model.fit(X_train_img, y_train, \n",
    "                     validation_data=(X_test_img, y_test), epochs=epochs, verbose=vb,\n",
    "                     batch_size=batch_size, callbacks=cbs)\n",
    "\n",
    "def plotHistory(history):\n",
    "    print(\"Max. Validation Accuracy\",max(history.history[\"val_accuracy\"]))\n",
    "    pd.DataFrame(history.history).plot(figsize=(12,6))\n",
    "    plt.show()"
   ]
  },
  {
   "cell_type": "code",
   "execution_count": 48,
   "metadata": {
    "execution": {
     "iopub.execute_input": "2021-01-21T23:23:05.174393Z",
     "iopub.status.busy": "2021-01-21T23:23:05.173514Z",
     "iopub.status.idle": "2021-01-21T23:23:44.521500Z",
     "shell.execute_reply": "2021-01-21T23:23:44.520815Z"
    },
    "papermill": {
     "duration": 39.634581,
     "end_time": "2021-01-21T23:23:44.521639",
     "exception": false,
     "start_time": "2021-01-21T23:23:04.887058",
     "status": "completed"
    },
    "scrolled": false,
    "tags": []
   },
   "outputs": [
    {
     "name": "stdout",
     "output_type": "stream",
     "text": [
      "Model: \"sequential_4\"\n",
      "_________________________________________________________________\n",
      "Layer (type)                 Output Shape              Param #   \n",
      "=================================================================\n",
      "conv2d_3 (Conv2D)            (None, 126, 126, 256)     7168      \n",
      "_________________________________________________________________\n",
      "batch_normalization_11 (Batc (None, 126, 126, 256)     1024      \n",
      "_________________________________________________________________\n",
      "max_pooling2d_2 (MaxPooling2 (None, 63, 63, 256)       0         \n",
      "_________________________________________________________________\n",
      "dropout_13 (Dropout)         (None, 63, 63, 256)       0         \n",
      "_________________________________________________________________\n",
      "conv2d_4 (Conv2D)            (None, 61, 61, 128)       295040    \n",
      "_________________________________________________________________\n",
      "batch_normalization_12 (Batc (None, 61, 61, 128)       512       \n",
      "_________________________________________________________________\n",
      "max_pooling2d_3 (MaxPooling2 (None, 30, 30, 128)       0         \n",
      "_________________________________________________________________\n",
      "dropout_14 (Dropout)         (None, 30, 30, 128)       0         \n",
      "_________________________________________________________________\n",
      "conv2d_5 (Conv2D)            (None, 30, 30, 64)        73792     \n",
      "_________________________________________________________________\n",
      "batch_normalization_13 (Batc (None, 30, 30, 64)        256       \n",
      "_________________________________________________________________\n",
      "flatten_4 (Flatten)          (None, 57600)             0         \n",
      "_________________________________________________________________\n",
      "dense_11 (Dense)             (None, 64)                3686464   \n",
      "_________________________________________________________________\n",
      "dense_12 (Dense)             (None, 3)                 195       \n",
      "=================================================================\n",
      "Total params: 4,064,451\n",
      "Trainable params: 4,063,555\n",
      "Non-trainable params: 896\n",
      "_________________________________________________________________\n",
      "None\n",
      "\n",
      "Epoch 00001: val_loss improved from inf to 0.96098, saving model to ./best_model.hdf5\n",
      "\n",
      "Epoch 00002: val_loss did not improve from 0.96098\n",
      "\n",
      "Epoch 00003: val_loss did not improve from 0.96098\n",
      "\n",
      "Epoch 00004: val_loss did not improve from 0.96098\n",
      "\n",
      "Epoch 00005: val_loss did not improve from 0.96098\n",
      "\n",
      "Epoch 00006: val_loss did not improve from 0.96098\n",
      "\n",
      "Epoch 00007: val_loss did not improve from 0.96098\n",
      "\n",
      "Epoch 00008: val_loss did not improve from 0.96098\n",
      "\n",
      "Epoch 00009: val_loss did not improve from 0.96098\n",
      "\n",
      "Epoch 00010: val_loss did not improve from 0.96098\n",
      "\n",
      "Epoch 00011: val_loss did not improve from 0.96098\n",
      "\n",
      "Epoch 00012: val_loss did not improve from 0.96098\n",
      "\n",
      "Epoch 00013: val_loss did not improve from 0.96098\n",
      "\n",
      "Epoch 00014: val_loss did not improve from 0.96098\n",
      "\n",
      "Epoch 00015: val_loss improved from 0.96098 to 0.92473, saving model to ./best_model.hdf5\n",
      "\n",
      "Epoch 00016: val_loss did not improve from 0.92473\n",
      "\n",
      "Epoch 00017: val_loss did not improve from 0.92473\n",
      "\n",
      "Epoch 00018: val_loss did not improve from 0.92473\n",
      "\n",
      "Epoch 00019: val_loss did not improve from 0.92473\n",
      "\n",
      "Epoch 00020: val_loss did not improve from 0.92473\n",
      "\n",
      "Epoch 00021: val_loss did not improve from 0.92473\n",
      "\n",
      "Epoch 00022: val_loss did not improve from 0.92473\n",
      "\n",
      "Epoch 00023: val_loss did not improve from 0.92473\n",
      "\n",
      "Epoch 00024: val_loss did not improve from 0.92473\n",
      "\n",
      "Epoch 00025: val_loss did not improve from 0.92473\n",
      "\n",
      "Epoch 00026: val_loss did not improve from 0.92473\n",
      "\n",
      "Epoch 00027: val_loss did not improve from 0.92473\n",
      "\n",
      "Epoch 00028: val_loss did not improve from 0.92473\n",
      "\n",
      "Epoch 00029: val_loss did not improve from 0.92473\n",
      "\n",
      "Epoch 00030: val_loss did not improve from 0.92473\n",
      "\n",
      "Epoch 00031: val_loss did not improve from 0.92473\n",
      "\n",
      "Epoch 00032: val_loss did not improve from 0.92473\n",
      "\n",
      "Epoch 00033: val_loss did not improve from 0.92473\n",
      "\n",
      "Epoch 00034: val_loss did not improve from 0.92473\n",
      "\n",
      "Epoch 00035: val_loss did not improve from 0.92473\n",
      "\n",
      "Epoch 00036: val_loss did not improve from 0.92473\n",
      "\n",
      "Epoch 00037: val_loss did not improve from 0.92473\n",
      "\n",
      "Epoch 00038: val_loss did not improve from 0.92473\n",
      "\n",
      "Epoch 00039: val_loss did not improve from 0.92473\n",
      "\n",
      "Epoch 00040: val_loss did not improve from 0.92473\n",
      "\n",
      "Epoch 00041: val_loss did not improve from 0.92473\n",
      "\n",
      "Epoch 00042: val_loss did not improve from 0.92473\n",
      "\n",
      "Epoch 00043: val_loss did not improve from 0.92473\n",
      "\n",
      "Epoch 00044: val_loss did not improve from 0.92473\n",
      "\n",
      "Epoch 00045: val_loss did not improve from 0.92473\n",
      "\n",
      "Epoch 00046: val_loss did not improve from 0.92473\n",
      "\n",
      "Epoch 00047: val_loss did not improve from 0.92473\n",
      "\n",
      "Epoch 00048: val_loss did not improve from 0.92473\n",
      "\n",
      "Epoch 00049: val_loss did not improve from 0.92473\n",
      "\n",
      "Epoch 00050: val_loss did not improve from 0.92473\n",
      "\n",
      "Epoch 00051: val_loss did not improve from 0.92473\n",
      "\n",
      "Epoch 00052: val_loss did not improve from 0.92473\n",
      "\n",
      "Epoch 00053: val_loss did not improve from 0.92473\n",
      "\n",
      "Epoch 00054: val_loss did not improve from 0.92473\n",
      "\n",
      "Epoch 00055: val_loss did not improve from 0.92473\n",
      "\n",
      "Epoch 00056: val_loss did not improve from 0.92473\n",
      "\n",
      "Epoch 00057: val_loss did not improve from 0.92473\n",
      "\n",
      "Epoch 00058: val_loss did not improve from 0.92473\n",
      "\n",
      "Epoch 00059: val_loss did not improve from 0.92473\n",
      "\n",
      "Epoch 00060: val_loss did not improve from 0.92473\n",
      "\n",
      "Epoch 00061: val_loss did not improve from 0.92473\n",
      "\n",
      "Epoch 00062: val_loss did not improve from 0.92473\n",
      "\n",
      "Epoch 00063: val_loss did not improve from 0.92473\n",
      "\n",
      "Epoch 00064: val_loss did not improve from 0.92473\n",
      "\n",
      "Epoch 00065: val_loss did not improve from 0.92473\n",
      "\n",
      "Epoch 00066: val_loss did not improve from 0.92473\n",
      "\n",
      "Epoch 00067: val_loss did not improve from 0.92473\n",
      "\n",
      "Epoch 00068: val_loss did not improve from 0.92473\n",
      "\n",
      "Epoch 00069: val_loss did not improve from 0.92473\n",
      "\n",
      "Epoch 00070: val_loss did not improve from 0.92473\n",
      "\n",
      "Epoch 00071: val_loss did not improve from 0.92473\n",
      "\n",
      "Epoch 00072: val_loss did not improve from 0.92473\n",
      "\n",
      "Epoch 00073: val_loss did not improve from 0.92473\n",
      "\n",
      "Epoch 00074: val_loss did not improve from 0.92473\n",
      "\n",
      "Epoch 00075: val_loss did not improve from 0.92473\n",
      "\n",
      "Epoch 00076: val_loss did not improve from 0.92473\n",
      "\n",
      "Epoch 00077: val_loss did not improve from 0.92473\n",
      "\n",
      "Epoch 00078: val_loss did not improve from 0.92473\n",
      "\n",
      "Epoch 00079: val_loss did not improve from 0.92473\n",
      "\n",
      "Epoch 00080: val_loss did not improve from 0.92473\n",
      "\n",
      "Epoch 00081: val_loss did not improve from 0.92473\n",
      "\n",
      "Epoch 00082: val_loss did not improve from 0.92473\n",
      "\n",
      "Epoch 00083: val_loss did not improve from 0.92473\n",
      "\n",
      "Epoch 00084: val_loss did not improve from 0.92473\n",
      "\n",
      "Epoch 00085: val_loss did not improve from 0.92473\n",
      "\n",
      "Epoch 00086: val_loss did not improve from 0.92473\n",
      "\n",
      "Epoch 00087: val_loss did not improve from 0.92473\n",
      "\n",
      "Epoch 00088: val_loss did not improve from 0.92473\n",
      "\n",
      "Epoch 00089: val_loss did not improve from 0.92473\n",
      "\n",
      "Epoch 00090: val_loss did not improve from 0.92473\n",
      "\n",
      "Epoch 00091: val_loss did not improve from 0.92473\n",
      "\n",
      "Epoch 00092: val_loss did not improve from 0.92473\n",
      "\n",
      "Epoch 00093: val_loss did not improve from 0.92473\n",
      "\n",
      "Epoch 00094: val_loss did not improve from 0.92473\n",
      "\n",
      "Epoch 00095: val_loss did not improve from 0.92473\n",
      "\n",
      "Epoch 00096: val_loss did not improve from 0.92473\n",
      "\n",
      "Epoch 00097: val_loss did not improve from 0.92473\n",
      "\n",
      "Epoch 00098: val_loss did not improve from 0.92473\n",
      "\n",
      "Epoch 00099: val_loss did not improve from 0.92473\n",
      "\n",
      "Epoch 00100: val_loss did not improve from 0.92473\n"
     ]
    }
   ],
   "source": [
    "model_6 = k.models.Sequential([\n",
    "    k.layers.Conv2D(256, 3, activation='relu', input_shape=(128, 128, 3)),\n",
    "    k.layers.BatchNormalization(),\n",
    "    k.layers.MaxPooling2D(pool_size=(2)),\n",
    "    k.layers.Dropout(0.2),\n",
    "    k.layers.Conv2D(128, 3, activation='relu'),\n",
    "    k.layers.BatchNormalization(),\n",
    "    k.layers.MaxPooling2D(pool_size=(2)),\n",
    "    k.layers.Dropout(0.2),\n",
    "    k.layers.Conv2D(64, 3, padding='same', activation='relu'),\n",
    "    k.layers.BatchNormalization(),\n",
    "    k.layers.Flatten(),\n",
    "    k.layers.Dense(64, activation='relu'),\n",
    "    k.layers.Dense(len(index_label), activation='softmax'),\n",
    "\n",
    "])\n",
    "print(model_6.summary())\n",
    "model_6_history = trainImgModel(model=model_6, epochs=100, optimizer='rmsprop', vb=0)"
   ]
  },
  {
   "cell_type": "code",
   "execution_count": 49,
   "metadata": {
    "execution": {
     "iopub.execute_input": "2021-01-21T23:23:45.381620Z",
     "iopub.status.busy": "2021-01-21T23:23:45.380047Z",
     "iopub.status.idle": "2021-01-21T23:23:45.645772Z",
     "shell.execute_reply": "2021-01-21T23:23:45.646280Z"
    },
    "papermill": {
     "duration": 0.593661,
     "end_time": "2021-01-21T23:23:45.646407",
     "exception": false,
     "start_time": "2021-01-21T23:23:45.052746",
     "status": "completed"
    },
    "tags": []
   },
   "outputs": [
    {
     "name": "stdout",
     "output_type": "stream",
     "text": [
      "Max. Validation Accuracy 0.6399999856948853\n"
     ]
    },
    {
     "data": {
      "image/png": "[encoded data removed]",
      "text/plain": [
       "<Figure size 864x432 with 1 Axes>"
      ]
     },
     "metadata": {
      "needs_background": "light"
     },
     "output_type": "display_data"
    }
   ],
   "source": [
    "plotHistory(model_6_history)"
   ]
  },
  {
   "cell_type": "code",
   "execution_count": 50,
   "metadata": {
    "execution": {
     "iopub.execute_input": "2021-01-21T23:23:46.883705Z",
     "iopub.status.busy": "2021-01-21T23:23:46.882684Z",
     "iopub.status.idle": "2021-01-21T23:23:47.328607Z",
     "shell.execute_reply": "2021-01-21T23:23:47.328057Z"
    },
    "papermill": {
     "duration": 1.308654,
     "end_time": "2021-01-21T23:23:47.328727",
     "exception": false,
     "start_time": "2021-01-21T23:23:46.020073",
     "status": "completed"
    },
    "tags": []
   },
   "outputs": [
    {
     "name": "stdout",
     "output_type": "stream",
     "text": [
      "1/1 [==============================] - 0s 2ms/step - loss: 0.9247 - accuracy: 0.0200\n",
      "The test Loss is : 0.924725353717804\n",
      "The test Accuracy is : 1.9999999552965164\n"
     ]
    }
   ],
   "source": [
    "# model evaluation\n",
    "test_loss, test_acc  = k.models.load_model(bestModelPath).evaluate(X_test_img, y_test, batch_size=128)\n",
    "print(\"The test Loss is :\",test_loss)\n",
    "print(\"The test Accuracy is :\",test_acc*100)"
   ]
  },
  {
   "cell_type": "code",
   "execution_count": 51,
   "metadata": {
    "execution": {
     "iopub.execute_input": "2021-01-21T23:23:47.941906Z",
     "iopub.status.busy": "2021-01-21T23:23:47.941337Z",
     "iopub.status.idle": "2021-01-21T23:23:47.945520Z",
     "shell.execute_reply": "2021-01-21T23:23:47.944915Z"
    },
    "papermill": {
     "duration": 0.305449,
     "end_time": "2021-01-21T23:23:47.945619",
     "exception": false,
     "start_time": "2021-01-21T23:23:47.640170",
     "status": "completed"
    },
    "tags": []
   },
   "outputs": [],
   "source": [
    "# test_data = np.expand_dims(test_data, axis=3)"
   ]
  },
  {
   "cell_type": "code",
   "execution_count": 52,
   "metadata": {
    "execution": {
     "iopub.execute_input": "2021-01-21T23:23:48.548607Z",
     "iopub.status.busy": "2021-01-21T23:23:48.547596Z",
     "iopub.status.idle": "2021-01-21T23:23:49.134755Z",
     "shell.execute_reply": "2021-01-21T23:23:49.134322Z"
    },
    "papermill": {
     "duration": 0.885993,
     "end_time": "2021-01-21T23:23:49.134862",
     "exception": false,
     "start_time": "2021-01-21T23:23:48.248869",
     "status": "completed"
    },
    "tags": []
   },
   "outputs": [
    {
     "data": {
      "text/plain": [
       "array([1, 1, 2, 2, 1, 1, 1, 1, 1, 1, 1, 1, 1, 1, 1, 1, 1, 1, 1, 1, 1, 1,\n",
       "       1, 1, 1, 2, 2, 2, 1, 1, 1, 2, 1, 2, 2, 1, 2, 2, 2, 2, 2, 1, 1, 1,\n",
       "       2, 1, 1, 2, 2, 2, 2, 2, 2, 2, 2, 2, 2, 2, 2, 2, 2, 2, 2, 2, 2, 2,\n",
       "       1, 1, 2, 2, 2, 2, 2, 2, 2, 0, 2, 2, 2, 2, 2, 2, 2, 2, 2, 2, 2, 2,\n",
       "       2, 2, 2, 2, 2, 2, 2, 2, 2, 2, 2, 2, 2, 2, 2, 2, 2, 2, 2, 2, 2, 2])"
      ]
     },
     "execution_count": 52,
     "metadata": {},
     "output_type": "execute_result"
    }
   ],
   "source": [
    "predictions = np.argmax(k.models.load_model(bestModelPath).predict(test_data_img), axis=1)\n",
    "predictions"
   ]
  },
  {
   "cell_type": "code",
   "execution_count": 53,
   "metadata": {
    "execution": {
     "iopub.execute_input": "2021-01-21T23:23:49.747103Z",
     "iopub.status.busy": "2021-01-21T23:23:49.746493Z",
     "iopub.status.idle": "2021-01-21T23:23:49.751905Z",
     "shell.execute_reply": "2021-01-21T23:23:49.751486Z"
    },
    "papermill": {
     "duration": 0.30648,
     "end_time": "2021-01-21T23:23:49.752016",
     "exception": false,
     "start_time": "2021-01-21T23:23:49.445536",
     "status": "completed"
    },
    "tags": []
   },
   "outputs": [
    {
     "data": {
      "text/html": [
       "<div>\n",
       "<style scoped>\n",
       "    .dataframe tbody tr th:only-of-type {\n",
       "        vertical-align: middle;\n",
       "    }\n",
       "\n",
       "    .dataframe tbody tr th {\n",
       "        vertical-align: top;\n",
       "    }\n",
       "\n",
       "    .dataframe thead th {\n",
       "        text-align: right;\n",
       "    }\n",
       "</style>\n",
       "<table border=\"1\" class=\"dataframe\">\n",
       "  <thead>\n",
       "    <tr style=\"text-align: right;\">\n",
       "      <th></th>\n",
       "      <th>Filename</th>\n",
       "      <th>Class</th>\n",
       "    </tr>\n",
       "  </thead>\n",
       "  <tbody>\n",
       "    <tr>\n",
       "      <th>0</th>\n",
       "      <td>112.wav</td>\n",
       "      <td>Neutral</td>\n",
       "    </tr>\n",
       "    <tr>\n",
       "      <th>1</th>\n",
       "      <td>113.wav</td>\n",
       "      <td>Neutral</td>\n",
       "    </tr>\n",
       "    <tr>\n",
       "      <th>2</th>\n",
       "      <td>115.wav</td>\n",
       "      <td>Positive</td>\n",
       "    </tr>\n",
       "    <tr>\n",
       "      <th>3</th>\n",
       "      <td>119.wav</td>\n",
       "      <td>Positive</td>\n",
       "    </tr>\n",
       "    <tr>\n",
       "      <th>4</th>\n",
       "      <td>123.wav</td>\n",
       "      <td>Neutral</td>\n",
       "    </tr>\n",
       "  </tbody>\n",
       "</table>\n",
       "</div>"
      ],
      "text/plain": [
       "  Filename     Class\n",
       "0  112.wav   Neutral\n",
       "1  113.wav   Neutral\n",
       "2  115.wav  Positive\n",
       "3  119.wav  Positive\n",
       "4  123.wav   Neutral"
      ]
     },
     "execution_count": 53,
     "metadata": {},
     "output_type": "execute_result"
    }
   ],
   "source": [
    "df_sub = pd.DataFrame({\n",
    "    'Filename': test_files,\n",
    "    'Class': list(map(lambda x:index_label[x], predictions))\n",
    "})\n",
    "df_sub.head()"
   ]
  },
  {
   "cell_type": "code",
   "execution_count": 54,
   "metadata": {
    "execution": {
     "iopub.execute_input": "2021-01-21T23:23:50.350263Z",
     "iopub.status.busy": "2021-01-21T23:23:50.349347Z",
     "iopub.status.idle": "2021-01-21T23:23:50.895905Z",
     "shell.execute_reply": "2021-01-21T23:23:50.895160Z"
    },
    "papermill": {
     "duration": 0.845824,
     "end_time": "2021-01-21T23:23:50.896071",
     "exception": false,
     "start_time": "2021-01-21T23:23:50.050247",
     "status": "completed"
    },
    "tags": []
   },
   "outputs": [],
   "source": [
    "submission_file = 'submission.csv'\n",
    "df_sub.to_csv(submission_file, index=False)"
   ]
  }
 ],
 "metadata": {
  "kernelspec": {
   "display_name": "Python 3",
   "language": "python",
   "name": "python3"
  },
  "language_info": {
   "codemirror_mode": {
    "name": "ipython",
    "version": 3
   },
   "file_extension": ".py",
   "mimetype": "text/x-python",
   "name": "python",
   "nbconvert_exporter": "python",
   "pygments_lexer": "ipython3",
   "version": "3.7.6"
  },
  "papermill": {
   "duration": 281.153239,
   "end_time": "2021-01-21T23:23:53.019466",
   "environment_variables": {},
   "exception": null,
   "input_path": "__notebook__.ipynb",
   "output_path": "__notebook__.ipynb",
   "parameters": {},
   "start_time": "2021-01-21T23:19:11.866227",
   "version": "2.1.0"
  }
 },
 "nbformat": 4,
 "nbformat_minor": 4
}
